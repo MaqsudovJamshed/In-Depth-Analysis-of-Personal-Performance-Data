{
 "cells": [
  {
   "cell_type": "code",
   "execution_count": 3,
   "id": "c79517fc-8b0c-4aaf-99c0-8b24364bd204",
   "metadata": {},
   "outputs": [],
   "source": [
    "import pandas as pd\n",
    "import matplotlib.pyplot as plt\n",
    "import seaborn as sns\n",
    "\n",
    "\n",
    "# Corrected URL (no \"edit\", no \"#gid=0\")\n",
    "url = \"https://docs.google.com/spreadsheets/d/1x-mhHTT8bQrLh7cjOE0KSys-MGb55SVAtPmmatN_ONQ/export?format=csv&gid=0\"\n",
    "\n",
    "df = pd.read_csv(url)"
   ]
  },
  {
   "cell_type": "code",
   "execution_count": 4,
   "id": "1648c13f-39ea-44ab-9eb3-08f7c918e459",
   "metadata": {},
   "outputs": [
    {
     "data": {
      "text/plain": [
       "Index(['Date', 'Monthly', 'My Week', 'Planned the day', 'Workout',\n",
       "       'Diet followed', 'JOURNAL', 'Sleep in H', 'Sleep in Desc',\n",
       "       'Deep work (h) in T', 'Deep work (h) in Des', 'Steps',\n",
       "       'Daily weight (kg)', 'CD Goal Weekly', 'CD Reality Check',\n",
       "       'Calory Deficit ', 'Screen Time (h)', 'Screen Time in Dec', 'SE',\n",
       "       'PORTUGUESE', 'READ PAGES', 'STATE OF DAY', 'Days of week', 'Body fat%',\n",
       "       'Real Fat Mass', 'Real Lean Body Mass (LBM)', 'Waist', 'Neck', 'Biceps',\n",
       "       'Forearms', 'Chest', 'Calves', 'Hips', 'Thighs'],\n",
       "      dtype='object')"
      ]
     },
     "execution_count": 4,
     "metadata": {},
     "output_type": "execute_result"
    }
   ],
   "source": [
    "df.columns"
   ]
  },
  {
   "cell_type": "code",
   "execution_count": 5,
   "id": "8a9973df-3132-451a-a805-6e8157ee58cd",
   "metadata": {},
   "outputs": [
    {
     "data": {
      "text/html": [
       "<div>\n",
       "<style scoped>\n",
       "    .dataframe tbody tr th:only-of-type {\n",
       "        vertical-align: middle;\n",
       "    }\n",
       "\n",
       "    .dataframe tbody tr th {\n",
       "        vertical-align: top;\n",
       "    }\n",
       "\n",
       "    .dataframe thead th {\n",
       "        text-align: right;\n",
       "    }\n",
       "</style>\n",
       "<table border=\"1\" class=\"dataframe\">\n",
       "  <thead>\n",
       "    <tr style=\"text-align: right;\">\n",
       "      <th></th>\n",
       "      <th>Date</th>\n",
       "      <th>Monthly</th>\n",
       "      <th>My Week</th>\n",
       "      <th>Planned the day</th>\n",
       "      <th>Workout</th>\n",
       "      <th>Diet followed</th>\n",
       "      <th>JOURNAL</th>\n",
       "      <th>Sleep in H</th>\n",
       "      <th>Sleep in Desc</th>\n",
       "      <th>Deep work (h) in T</th>\n",
       "      <th>...</th>\n",
       "      <th>Real Fat Mass</th>\n",
       "      <th>Real Lean Body Mass (LBM)</th>\n",
       "      <th>Waist</th>\n",
       "      <th>Neck</th>\n",
       "      <th>Biceps</th>\n",
       "      <th>Forearms</th>\n",
       "      <th>Chest</th>\n",
       "      <th>Calves</th>\n",
       "      <th>Hips</th>\n",
       "      <th>Thighs</th>\n",
       "    </tr>\n",
       "  </thead>\n",
       "  <tbody>\n",
       "    <tr>\n",
       "      <th>0</th>\n",
       "      <td>01/06/2025</td>\n",
       "      <td>June</td>\n",
       "      <td>1</td>\n",
       "      <td>No</td>\n",
       "      <td>No</td>\n",
       "      <td>No</td>\n",
       "      <td>No</td>\n",
       "      <td>6:00</td>\n",
       "      <td>6.0</td>\n",
       "      <td>0:00</td>\n",
       "      <td>...</td>\n",
       "      <td>NaN</td>\n",
       "      <td>NaN</td>\n",
       "      <td>NaN</td>\n",
       "      <td>NaN</td>\n",
       "      <td>NaN</td>\n",
       "      <td>NaN</td>\n",
       "      <td>NaN</td>\n",
       "      <td>NaN</td>\n",
       "      <td>NaN</td>\n",
       "      <td>NaN</td>\n",
       "    </tr>\n",
       "    <tr>\n",
       "      <th>1</th>\n",
       "      <td>02/06/2025</td>\n",
       "      <td>June</td>\n",
       "      <td>2</td>\n",
       "      <td>No</td>\n",
       "      <td>No</td>\n",
       "      <td>No</td>\n",
       "      <td>No</td>\n",
       "      <td>7:00</td>\n",
       "      <td>7.0</td>\n",
       "      <td>0:00</td>\n",
       "      <td>...</td>\n",
       "      <td>NaN</td>\n",
       "      <td>NaN</td>\n",
       "      <td>NaN</td>\n",
       "      <td>NaN</td>\n",
       "      <td>NaN</td>\n",
       "      <td>NaN</td>\n",
       "      <td>NaN</td>\n",
       "      <td>NaN</td>\n",
       "      <td>NaN</td>\n",
       "      <td>NaN</td>\n",
       "    </tr>\n",
       "    <tr>\n",
       "      <th>2</th>\n",
       "      <td>03/06/2025</td>\n",
       "      <td>June</td>\n",
       "      <td>2</td>\n",
       "      <td>No</td>\n",
       "      <td>No</td>\n",
       "      <td>No</td>\n",
       "      <td>No</td>\n",
       "      <td>6:00</td>\n",
       "      <td>6.0</td>\n",
       "      <td>0:00</td>\n",
       "      <td>...</td>\n",
       "      <td>NaN</td>\n",
       "      <td>NaN</td>\n",
       "      <td>NaN</td>\n",
       "      <td>NaN</td>\n",
       "      <td>NaN</td>\n",
       "      <td>NaN</td>\n",
       "      <td>NaN</td>\n",
       "      <td>NaN</td>\n",
       "      <td>NaN</td>\n",
       "      <td>NaN</td>\n",
       "    </tr>\n",
       "    <tr>\n",
       "      <th>3</th>\n",
       "      <td>04/06/2025</td>\n",
       "      <td>June</td>\n",
       "      <td>2</td>\n",
       "      <td>Yes</td>\n",
       "      <td>No</td>\n",
       "      <td>No</td>\n",
       "      <td>No</td>\n",
       "      <td>7:00</td>\n",
       "      <td>7.0</td>\n",
       "      <td>0:00</td>\n",
       "      <td>...</td>\n",
       "      <td>NaN</td>\n",
       "      <td>NaN</td>\n",
       "      <td>NaN</td>\n",
       "      <td>NaN</td>\n",
       "      <td>NaN</td>\n",
       "      <td>NaN</td>\n",
       "      <td>NaN</td>\n",
       "      <td>NaN</td>\n",
       "      <td>NaN</td>\n",
       "      <td>NaN</td>\n",
       "    </tr>\n",
       "    <tr>\n",
       "      <th>4</th>\n",
       "      <td>05/06/2025</td>\n",
       "      <td>June</td>\n",
       "      <td>2</td>\n",
       "      <td>Yes</td>\n",
       "      <td>No</td>\n",
       "      <td>No</td>\n",
       "      <td>No</td>\n",
       "      <td>9:30</td>\n",
       "      <td>9.5</td>\n",
       "      <td>1:00</td>\n",
       "      <td>...</td>\n",
       "      <td>NaN</td>\n",
       "      <td>NaN</td>\n",
       "      <td>NaN</td>\n",
       "      <td>NaN</td>\n",
       "      <td>NaN</td>\n",
       "      <td>NaN</td>\n",
       "      <td>NaN</td>\n",
       "      <td>NaN</td>\n",
       "      <td>NaN</td>\n",
       "      <td>NaN</td>\n",
       "    </tr>\n",
       "  </tbody>\n",
       "</table>\n",
       "<p>5 rows × 34 columns</p>\n",
       "</div>"
      ],
      "text/plain": [
       "         Date Monthly  My Week Planned the day Workout Diet followed JOURNAL  \\\n",
       "0  01/06/2025    June        1              No      No            No      No   \n",
       "1  02/06/2025    June        2              No      No            No      No   \n",
       "2  03/06/2025    June        2              No      No            No      No   \n",
       "3  04/06/2025    June        2             Yes      No            No      No   \n",
       "4  05/06/2025    June        2             Yes      No            No      No   \n",
       "\n",
       "  Sleep in H  Sleep in Desc Deep work (h) in T  ...  Real Fat Mass  \\\n",
       "0       6:00            6.0               0:00  ...            NaN   \n",
       "1       7:00            7.0               0:00  ...            NaN   \n",
       "2       6:00            6.0               0:00  ...            NaN   \n",
       "3       7:00            7.0               0:00  ...            NaN   \n",
       "4       9:30            9.5               1:00  ...            NaN   \n",
       "\n",
       "  Real Lean Body Mass (LBM)  Waist Neck Biceps Forearms Chest  Calves  Hips  \\\n",
       "0                       NaN    NaN  NaN    NaN      NaN   NaN     NaN   NaN   \n",
       "1                       NaN    NaN  NaN    NaN      NaN   NaN     NaN   NaN   \n",
       "2                       NaN    NaN  NaN    NaN      NaN   NaN     NaN   NaN   \n",
       "3                       NaN    NaN  NaN    NaN      NaN   NaN     NaN   NaN   \n",
       "4                       NaN    NaN  NaN    NaN      NaN   NaN     NaN   NaN   \n",
       "\n",
       "   Thighs  \n",
       "0     NaN  \n",
       "1     NaN  \n",
       "2     NaN  \n",
       "3     NaN  \n",
       "4     NaN  \n",
       "\n",
       "[5 rows x 34 columns]"
      ]
     },
     "execution_count": 5,
     "metadata": {},
     "output_type": "execute_result"
    }
   ],
   "source": [
    "df.head()"
   ]
  },
  {
   "cell_type": "markdown",
   "id": "e3501246-4c9d-40a0-b6fd-a9d2a397dab1",
   "metadata": {},
   "source": [
    "Core Habits & Productivity\n",
    "\n",
    "These give you the fastest feedback loop on daily life:\n",
    "\n",
    "\t1.\tDoes planning the day increase deep work hours?\n",
    "\t2.\tDoes sleep (hours) impact next day’s deep work?\n",
    "\t3.\tDoes higher screen time reduce deep work?\n",
    "\n",
    "👉 These three will tell you: how habits shape your focus."
   ]
  },
  {
   "cell_type": "markdown",
   "id": "026f60c1-7565-4ba4-96d4-a3e46871fda9",
   "metadata": {},
   "source": [
    "# 1.1\tDoes planning the day increase deep work hours?"
   ]
  },
  {
   "cell_type": "code",
   "execution_count": 8,
   "id": "b09a13af-ccab-43d1-853e-f70bd800a8b6",
   "metadata": {},
   "outputs": [
    {
     "data": {
      "text/html": [
       "<div>\n",
       "<style scoped>\n",
       "    .dataframe tbody tr th:only-of-type {\n",
       "        vertical-align: middle;\n",
       "    }\n",
       "\n",
       "    .dataframe tbody tr th {\n",
       "        vertical-align: top;\n",
       "    }\n",
       "\n",
       "    .dataframe thead th {\n",
       "        text-align: right;\n",
       "    }\n",
       "</style>\n",
       "<table border=\"1\" class=\"dataframe\">\n",
       "  <thead>\n",
       "    <tr style=\"text-align: right;\">\n",
       "      <th></th>\n",
       "      <th>Planned the day</th>\n",
       "      <th>Deep work (h) in Des</th>\n",
       "    </tr>\n",
       "  </thead>\n",
       "  <tbody>\n",
       "    <tr>\n",
       "      <th>0</th>\n",
       "      <td>No</td>\n",
       "      <td>0.711765</td>\n",
       "    </tr>\n",
       "    <tr>\n",
       "      <th>1</th>\n",
       "      <td>Yes</td>\n",
       "      <td>1.843284</td>\n",
       "    </tr>\n",
       "  </tbody>\n",
       "</table>\n",
       "</div>"
      ],
      "text/plain": [
       "  Planned the day  Deep work (h) in Des\n",
       "0              No              0.711765\n",
       "1             Yes              1.843284"
      ]
     },
     "execution_count": 8,
     "metadata": {},
     "output_type": "execute_result"
    }
   ],
   "source": [
    "# Group by planning status\n",
    "planning_summary = df.groupby(\"Planned the day\")[\"Deep work (h) in Des\"].mean().reset_index()\n",
    "planning_summary"
   ]
  },
  {
   "cell_type": "code",
   "execution_count": 9,
   "id": "2e8dc5d4-2a10-44ae-a791-46c543fbe4ee",
   "metadata": {},
   "outputs": [],
   "source": [
    "def decimal_to_hm(decimal_hours):\n",
    "    hours = int(decimal_hours)\n",
    "    minutes = int(round((decimal_hours - hours) * 60))\n",
    "    return f\"{hours}h {minutes}m\"\n",
    "\n",
    "planning_summary[\"avg_deep_work_HHMM\"] = planning_summary[\"Deep work (h) in Des\"].apply(decimal_to_hm)"
   ]
  },
  {
   "cell_type": "code",
   "execution_count": 10,
   "id": "88e843ed-6eec-4ddc-8663-bc5ed1b15d5d",
   "metadata": {},
   "outputs": [
    {
     "data": {
      "text/html": [
       "<div>\n",
       "<style scoped>\n",
       "    .dataframe tbody tr th:only-of-type {\n",
       "        vertical-align: middle;\n",
       "    }\n",
       "\n",
       "    .dataframe tbody tr th {\n",
       "        vertical-align: top;\n",
       "    }\n",
       "\n",
       "    .dataframe thead th {\n",
       "        text-align: right;\n",
       "    }\n",
       "</style>\n",
       "<table border=\"1\" class=\"dataframe\">\n",
       "  <thead>\n",
       "    <tr style=\"text-align: right;\">\n",
       "      <th></th>\n",
       "      <th>Planned the day</th>\n",
       "      <th>Deep work (h) in Des</th>\n",
       "      <th>avg_deep_work_HHMM</th>\n",
       "    </tr>\n",
       "  </thead>\n",
       "  <tbody>\n",
       "    <tr>\n",
       "      <th>0</th>\n",
       "      <td>No</td>\n",
       "      <td>0.711765</td>\n",
       "      <td>0h 43m</td>\n",
       "    </tr>\n",
       "    <tr>\n",
       "      <th>1</th>\n",
       "      <td>Yes</td>\n",
       "      <td>1.843284</td>\n",
       "      <td>1h 51m</td>\n",
       "    </tr>\n",
       "  </tbody>\n",
       "</table>\n",
       "</div>"
      ],
      "text/plain": [
       "  Planned the day  Deep work (h) in Des avg_deep_work_HHMM\n",
       "0              No              0.711765             0h 43m\n",
       "1             Yes              1.843284             1h 51m"
      ]
     },
     "execution_count": 10,
     "metadata": {},
     "output_type": "execute_result"
    }
   ],
   "source": [
    "planning_summary"
   ]
  },
  {
   "cell_type": "code",
   "execution_count": 11,
   "id": "7c3f0ab7-06a2-473a-9207-30e6dd522c6d",
   "metadata": {},
   "outputs": [],
   "source": [
    "# % of total deep work\n",
    "total = planning_summary[\"Deep work (h) in Des\"].sum()\n",
    "planning_summary[\"% of Total\"] = (planning_summary[\"Deep work (h) in Des\"] / total * 100).round(1)"
   ]
  },
  {
   "cell_type": "code",
   "execution_count": 12,
   "id": "9c61cbd7-97e9-451d-8652-a72390db66ce",
   "metadata": {},
   "outputs": [],
   "source": [
    "# Get decimal value for No (baseline)\n",
    "baseline = planning_summary.loc[planning_summary[\"Planned the day\"]==\"No\", \"Deep work (h) in Des\"].values[0]\n",
    "\n",
    "# % difference relative to baseline\n",
    "planning_summary[\"% Difference\"] = ((planning_summary[\"Deep work (h) in Des\"] - baseline) / baseline * 100).round(1)\n",
    "planning_summary.loc[planning_summary[\"Planned the day\"]==\"No\", \"% Difference\"] = None  # Optional: baseline row has no difference"
   ]
  },
  {
   "cell_type": "code",
   "execution_count": 13,
   "id": "31494787-80d5-4ab7-a7cb-518ca088d892",
   "metadata": {},
   "outputs": [
    {
     "data": {
      "text/html": [
       "<div>\n",
       "<style scoped>\n",
       "    .dataframe tbody tr th:only-of-type {\n",
       "        vertical-align: middle;\n",
       "    }\n",
       "\n",
       "    .dataframe tbody tr th {\n",
       "        vertical-align: top;\n",
       "    }\n",
       "\n",
       "    .dataframe thead th {\n",
       "        text-align: right;\n",
       "    }\n",
       "</style>\n",
       "<table border=\"1\" class=\"dataframe\">\n",
       "  <thead>\n",
       "    <tr style=\"text-align: right;\">\n",
       "      <th></th>\n",
       "      <th>Planned the day</th>\n",
       "      <th>Deep work (h) in Des</th>\n",
       "      <th>avg_deep_work_HHMM</th>\n",
       "      <th>% of Total</th>\n",
       "      <th>% Difference</th>\n",
       "    </tr>\n",
       "  </thead>\n",
       "  <tbody>\n",
       "    <tr>\n",
       "      <th>0</th>\n",
       "      <td>No</td>\n",
       "      <td>0.711765</td>\n",
       "      <td>0h 43m</td>\n",
       "      <td>27.9</td>\n",
       "      <td>NaN</td>\n",
       "    </tr>\n",
       "    <tr>\n",
       "      <th>1</th>\n",
       "      <td>Yes</td>\n",
       "      <td>1.843284</td>\n",
       "      <td>1h 51m</td>\n",
       "      <td>72.1</td>\n",
       "      <td>159.0</td>\n",
       "    </tr>\n",
       "  </tbody>\n",
       "</table>\n",
       "</div>"
      ],
      "text/plain": [
       "  Planned the day  Deep work (h) in Des avg_deep_work_HHMM  % of Total  \\\n",
       "0              No              0.711765             0h 43m        27.9   \n",
       "1             Yes              1.843284             1h 51m        72.1   \n",
       "\n",
       "   % Difference  \n",
       "0           NaN  \n",
       "1         159.0  "
      ]
     },
     "execution_count": 13,
     "metadata": {},
     "output_type": "execute_result"
    }
   ],
   "source": [
    "planning_summary"
   ]
  },
  {
   "cell_type": "code",
   "execution_count": 14,
   "id": "f01f53c4-aed9-40f5-9c82-57770b058959",
   "metadata": {},
   "outputs": [
    {
     "data": {
      "image/png": "[encoded data removed]",
      "text/plain": [
       "<Figure size 640x480 with 1 Axes>"
      ]
     },
     "metadata": {},
     "output_type": "display_data"
    }
   ],
   "source": [
    "sns.barplot(x=\"Planned the day\", \n",
    "            y=\"Deep work (h) in Des\", \n",
    "            data=df)\n",
    "plt.title(\"Average Deep Work Hours: Planned vs Not Planned\")\n",
    "plt.ylabel(\"Deep Work Hours\")\n",
    "plt.show()"
   ]
  },
  {
   "cell_type": "markdown",
   "id": "f668da99-388d-4183-ab48-2b102b01d317",
   "metadata": {},
   "source": [
    "Summary: Effect of Planning on Deep Work\n",
    "\n",
    "\t•\tOn days without planning, the average deep work was 0.69 hours (~42 minutes).\n",
    "\t•\tOn days with planning, the average deep work increased to 1.82 hours (~1 hour 49 minutes).\n",
    "\t•\tPlanned days contributed 72.5% of total deep work, while non-planned days contributed 27.5%.\n",
    "\t•\tDeep work on planned days was 163.6% higher compared to non-planned days.\n",
    "\n",
    "Conclusion: Planning your the day has a strong positive impact on productivity, significantly increasing the time spent in deep work."
   ]
  },
  {
   "cell_type": "markdown",
   "id": "cb4887eb-43a8-4f7f-94d4-5ecf622fc199",
   "metadata": {},
   "source": [
    "## 1.2.\tDoes sleep (hours) impacts  deep work?"
   ]
  },
  {
   "cell_type": "code",
   "execution_count": 17,
   "id": "e3729616-0efb-47f3-a968-0249acc73f14",
   "metadata": {},
   "outputs": [
    {
     "data": {
      "text/html": [
       "<div>\n",
       "<style scoped>\n",
       "    .dataframe tbody tr th:only-of-type {\n",
       "        vertical-align: middle;\n",
       "    }\n",
       "\n",
       "    .dataframe tbody tr th {\n",
       "        vertical-align: top;\n",
       "    }\n",
       "\n",
       "    .dataframe thead th {\n",
       "        text-align: right;\n",
       "    }\n",
       "</style>\n",
       "<table border=\"1\" class=\"dataframe\">\n",
       "  <thead>\n",
       "    <tr style=\"text-align: right;\">\n",
       "      <th></th>\n",
       "      <th>Deep work (h) in Des</th>\n",
       "      <th>Sleep in Desc</th>\n",
       "    </tr>\n",
       "  </thead>\n",
       "  <tbody>\n",
       "    <tr>\n",
       "      <th>count</th>\n",
       "      <td>118.000000</td>\n",
       "      <td>118.000000</td>\n",
       "    </tr>\n",
       "    <tr>\n",
       "      <th>mean</th>\n",
       "      <td>1.354237</td>\n",
       "      <td>7.747712</td>\n",
       "    </tr>\n",
       "    <tr>\n",
       "      <th>std</th>\n",
       "      <td>1.519145</td>\n",
       "      <td>1.148005</td>\n",
       "    </tr>\n",
       "    <tr>\n",
       "      <th>min</th>\n",
       "      <td>0.000000</td>\n",
       "      <td>5.000000</td>\n",
       "    </tr>\n",
       "    <tr>\n",
       "      <th>25%</th>\n",
       "      <td>0.000000</td>\n",
       "      <td>7.000000</td>\n",
       "    </tr>\n",
       "    <tr>\n",
       "      <th>50%</th>\n",
       "      <td>1.000000</td>\n",
       "      <td>7.900000</td>\n",
       "    </tr>\n",
       "    <tr>\n",
       "      <th>75%</th>\n",
       "      <td>2.000000</td>\n",
       "      <td>9.000000</td>\n",
       "    </tr>\n",
       "    <tr>\n",
       "      <th>max</th>\n",
       "      <td>6.000000</td>\n",
       "      <td>10.000000</td>\n",
       "    </tr>\n",
       "  </tbody>\n",
       "</table>\n",
       "</div>"
      ],
      "text/plain": [
       "       Deep work (h) in Des  Sleep in Desc\n",
       "count            118.000000     118.000000\n",
       "mean               1.354237       7.747712\n",
       "std                1.519145       1.148005\n",
       "min                0.000000       5.000000\n",
       "25%                0.000000       7.000000\n",
       "50%                1.000000       7.900000\n",
       "75%                2.000000       9.000000\n",
       "max                6.000000      10.000000"
      ]
     },
     "execution_count": 17,
     "metadata": {},
     "output_type": "execute_result"
    }
   ],
   "source": [
    "df[['Deep work (h) in Des','Sleep in Desc']].describe()"
   ]
  },
  {
   "cell_type": "code",
   "execution_count": 18,
   "id": "20547b63-b7b9-4e85-919c-7362143cb069",
   "metadata": {},
   "outputs": [
    {
     "data": {
      "text/html": [
       "<div>\n",
       "<style scoped>\n",
       "    .dataframe tbody tr th:only-of-type {\n",
       "        vertical-align: middle;\n",
       "    }\n",
       "\n",
       "    .dataframe tbody tr th {\n",
       "        vertical-align: top;\n",
       "    }\n",
       "\n",
       "    .dataframe thead th {\n",
       "        text-align: right;\n",
       "    }\n",
       "</style>\n",
       "<table border=\"1\" class=\"dataframe\">\n",
       "  <thead>\n",
       "    <tr style=\"text-align: right;\">\n",
       "      <th></th>\n",
       "      <th>Sleep in Desc</th>\n",
       "      <th>Sleep Category</th>\n",
       "      <th>Deep work (h) in Des</th>\n",
       "    </tr>\n",
       "  </thead>\n",
       "  <tbody>\n",
       "    <tr>\n",
       "      <th>0</th>\n",
       "      <td>6.0</td>\n",
       "      <td>Short (&lt;6h)</td>\n",
       "      <td>0.0</td>\n",
       "    </tr>\n",
       "    <tr>\n",
       "      <th>1</th>\n",
       "      <td>7.0</td>\n",
       "      <td>Optimal (6-8h)</td>\n",
       "      <td>0.0</td>\n",
       "    </tr>\n",
       "    <tr>\n",
       "      <th>2</th>\n",
       "      <td>6.0</td>\n",
       "      <td>Short (&lt;6h)</td>\n",
       "      <td>0.0</td>\n",
       "    </tr>\n",
       "    <tr>\n",
       "      <th>3</th>\n",
       "      <td>7.0</td>\n",
       "      <td>Optimal (6-8h)</td>\n",
       "      <td>0.0</td>\n",
       "    </tr>\n",
       "    <tr>\n",
       "      <th>4</th>\n",
       "      <td>9.5</td>\n",
       "      <td>Long (&gt;8h)</td>\n",
       "      <td>1.0</td>\n",
       "    </tr>\n",
       "  </tbody>\n",
       "</table>\n",
       "</div>"
      ],
      "text/plain": [
       "   Sleep in Desc  Sleep Category  Deep work (h) in Des\n",
       "0            6.0     Short (<6h)                   0.0\n",
       "1            7.0  Optimal (6-8h)                   0.0\n",
       "2            6.0     Short (<6h)                   0.0\n",
       "3            7.0  Optimal (6-8h)                   0.0\n",
       "4            9.5      Long (>8h)                   1.0"
      ]
     },
     "execution_count": 18,
     "metadata": {},
     "output_type": "execute_result"
    }
   ],
   "source": [
    "import pandas as pd\n",
    "\n",
    "# Define bins and labels\n",
    "bins = [0, 6, 8, 24]  # 24 just to cover any long sleep\n",
    "labels = [\"Short (<6h)\", \"Optimal (6-8h)\", \"Long (>8h)\"]\n",
    "\n",
    "# Create a new column with sleep categories\n",
    "df[\"Sleep Category\"] = pd.cut(df[\"Sleep in Desc\"], bins=bins, labels=labels)\n",
    "\n",
    "# Check the first rows\n",
    "df[[\"Sleep in Desc\", \"Sleep Category\", \"Deep work (h) in Des\"]].head()"
   ]
  },
  {
   "cell_type": "code",
   "execution_count": 19,
   "id": "b8ab5030-00fe-423d-8c52-7bd74a758ea5",
   "metadata": {},
   "outputs": [
    {
     "data": {
      "text/html": [
       "<div>\n",
       "<style scoped>\n",
       "    .dataframe tbody tr th:only-of-type {\n",
       "        vertical-align: middle;\n",
       "    }\n",
       "\n",
       "    .dataframe tbody tr th {\n",
       "        vertical-align: top;\n",
       "    }\n",
       "\n",
       "    .dataframe thead th {\n",
       "        text-align: right;\n",
       "    }\n",
       "</style>\n",
       "<table border=\"1\" class=\"dataframe\">\n",
       "  <thead>\n",
       "    <tr style=\"text-align: right;\">\n",
       "      <th></th>\n",
       "      <th>Sleep Category</th>\n",
       "      <th>Deep work (h) in Des</th>\n",
       "      <th>Deep work (HH:MM)</th>\n",
       "    </tr>\n",
       "  </thead>\n",
       "  <tbody>\n",
       "    <tr>\n",
       "      <th>0</th>\n",
       "      <td>Short (&lt;6h)</td>\n",
       "      <td>0.957143</td>\n",
       "      <td>0h 57m</td>\n",
       "    </tr>\n",
       "    <tr>\n",
       "      <th>1</th>\n",
       "      <td>Optimal (6-8h)</td>\n",
       "      <td>1.408824</td>\n",
       "      <td>1h 25m</td>\n",
       "    </tr>\n",
       "    <tr>\n",
       "      <th>2</th>\n",
       "      <td>Long (&gt;8h)</td>\n",
       "      <td>1.405556</td>\n",
       "      <td>1h 24m</td>\n",
       "    </tr>\n",
       "  </tbody>\n",
       "</table>\n",
       "</div>"
      ],
      "text/plain": [
       "   Sleep Category  Deep work (h) in Des Deep work (HH:MM)\n",
       "0     Short (<6h)              0.957143            0h 57m\n",
       "1  Optimal (6-8h)              1.408824            1h 25m\n",
       "2      Long (>8h)              1.405556            1h 24m"
      ]
     },
     "execution_count": 19,
     "metadata": {},
     "output_type": "execute_result"
    }
   ],
   "source": [
    "sleep_summary = df.groupby(\"Sleep Category\",observed=False)[\"Deep work (h) in Des\"].mean().reset_index()\n",
    "sleep_summary[\"Deep work (HH:MM)\"] = sleep_summary[\"Deep work (h) in Des\"].apply(lambda x: f\"{int(x)}h {int(round((x-int(x))*60))}m\")\n",
    "sleep_summary"
   ]
  },
  {
   "cell_type": "code",
   "execution_count": 20,
   "id": "9911655a-6f3c-4b78-9e87-f791597d700d",
   "metadata": {},
   "outputs": [
    {
     "data": {
      "image/png": "[encoded data removed]",
      "text/plain": [
       "<Figure size 600x400 with 1 Axes>"
      ]
     },
     "metadata": {},
     "output_type": "display_data"
    }
   ],
   "source": [
    "import seaborn as sns\n",
    "\n",
    "plt.figure(figsize=(6,4))\n",
    "sns.barplot(x=\"Sleep Category\", y=\"Deep work (h) in Des\", data=df)\n",
    "plt.title(\"Deep Work Distribution by Sleep Category\")\n",
    "plt.ylabel(\"Deep Work (h)\")\n",
    "plt.show()"
   ]
  },
  {
   "cell_type": "markdown",
   "id": "31fb09d6-8228-49bc-9e90-0bda78a4c4aa",
   "metadata": {},
   "source": [
    "Conclusion: Sleep and Deep Work\n",
    "\n",
    "\t•\tOn days with short sleep (<6h), the average deep work was 0.96 hours (~57 minutes).\n",
    "\t•\tOn days with optimal sleep (6–8h), average deep work increased to 1.39 hours (~1 hour 23 minutes).\n",
    "\t•\tOn days with long sleep (>8h), average deep work was similar to optimal sleep at 1.38 hours (~1 hour 22 minutes).\n",
    "\n",
    "Insights:\n",
    "\n",
    "\t•\tDeep work tends to be lowest on short sleep days, indicating insufficient sleep may reduce productivity.\n",
    "\t•\tSleeping 6–8 hours or slightly longer supports higher deep work, but very long sleep (>8h) doesn’t further increase it.\n",
    "\t•\tOptimal sleep appears to maximize deep work, while short sleep clearly hinders it."
   ]
  },
  {
   "cell_type": "markdown",
   "id": "5e0592f8-8ed4-4004-87bc-3ce0068fae07",
   "metadata": {},
   "source": [
    "## 1.3.\tDoes higher screen time reduce deep work?"
   ]
  },
  {
   "cell_type": "code",
   "execution_count": 23,
   "id": "5304420f-9143-4eb6-939e-b02db99d575d",
   "metadata": {},
   "outputs": [
    {
     "data": {
      "text/html": [
       "<div>\n",
       "<style scoped>\n",
       "    .dataframe tbody tr th:only-of-type {\n",
       "        vertical-align: middle;\n",
       "    }\n",
       "\n",
       "    .dataframe tbody tr th {\n",
       "        vertical-align: top;\n",
       "    }\n",
       "\n",
       "    .dataframe thead th {\n",
       "        text-align: right;\n",
       "    }\n",
       "</style>\n",
       "<table border=\"1\" class=\"dataframe\">\n",
       "  <thead>\n",
       "    <tr style=\"text-align: right;\">\n",
       "      <th></th>\n",
       "      <th>Deep work (h) in Des</th>\n",
       "      <th>Screen Time in Dec</th>\n",
       "    </tr>\n",
       "  </thead>\n",
       "  <tbody>\n",
       "    <tr>\n",
       "      <th>count</th>\n",
       "      <td>118.000000</td>\n",
       "      <td>117.000000</td>\n",
       "    </tr>\n",
       "    <tr>\n",
       "      <th>mean</th>\n",
       "      <td>1.354237</td>\n",
       "      <td>4.879573</td>\n",
       "    </tr>\n",
       "    <tr>\n",
       "      <th>std</th>\n",
       "      <td>1.519145</td>\n",
       "      <td>2.516976</td>\n",
       "    </tr>\n",
       "    <tr>\n",
       "      <th>min</th>\n",
       "      <td>0.000000</td>\n",
       "      <td>1.280000</td>\n",
       "    </tr>\n",
       "    <tr>\n",
       "      <th>25%</th>\n",
       "      <td>0.000000</td>\n",
       "      <td>3.080000</td>\n",
       "    </tr>\n",
       "    <tr>\n",
       "      <th>50%</th>\n",
       "      <td>1.000000</td>\n",
       "      <td>4.450000</td>\n",
       "    </tr>\n",
       "    <tr>\n",
       "      <th>75%</th>\n",
       "      <td>2.000000</td>\n",
       "      <td>6.230000</td>\n",
       "    </tr>\n",
       "    <tr>\n",
       "      <th>max</th>\n",
       "      <td>6.000000</td>\n",
       "      <td>16.620000</td>\n",
       "    </tr>\n",
       "  </tbody>\n",
       "</table>\n",
       "</div>"
      ],
      "text/plain": [
       "       Deep work (h) in Des  Screen Time in Dec\n",
       "count            118.000000          117.000000\n",
       "mean               1.354237            4.879573\n",
       "std                1.519145            2.516976\n",
       "min                0.000000            1.280000\n",
       "25%                0.000000            3.080000\n",
       "50%                1.000000            4.450000\n",
       "75%                2.000000            6.230000\n",
       "max                6.000000           16.620000"
      ]
     },
     "execution_count": 23,
     "metadata": {},
     "output_type": "execute_result"
    }
   ],
   "source": [
    "df[['Deep work (h) in Des','Screen Time in Dec']].describe()"
   ]
  },
  {
   "cell_type": "code",
   "execution_count": 24,
   "id": "7daf8da9-bb70-4feb-a22a-79712ae0789c",
   "metadata": {},
   "outputs": [
    {
     "data": {
      "text/html": [
       "<div>\n",
       "<style scoped>\n",
       "    .dataframe tbody tr th:only-of-type {\n",
       "        vertical-align: middle;\n",
       "    }\n",
       "\n",
       "    .dataframe tbody tr th {\n",
       "        vertical-align: top;\n",
       "    }\n",
       "\n",
       "    .dataframe thead th {\n",
       "        text-align: right;\n",
       "    }\n",
       "</style>\n",
       "<table border=\"1\" class=\"dataframe\">\n",
       "  <thead>\n",
       "    <tr style=\"text-align: right;\">\n",
       "      <th></th>\n",
       "      <th>Screen Time Category</th>\n",
       "      <th>Deep work (h) in Des</th>\n",
       "      <th>Deep work (HH:MM)</th>\n",
       "    </tr>\n",
       "  </thead>\n",
       "  <tbody>\n",
       "    <tr>\n",
       "      <th>0</th>\n",
       "      <td>Low (0-2h)</td>\n",
       "      <td>3.233333</td>\n",
       "      <td>3h 14m</td>\n",
       "    </tr>\n",
       "    <tr>\n",
       "      <th>1</th>\n",
       "      <td>Medium (2-4h)</td>\n",
       "      <td>1.744186</td>\n",
       "      <td>1h 45m</td>\n",
       "    </tr>\n",
       "    <tr>\n",
       "      <th>2</th>\n",
       "      <td>High (4-6h)</td>\n",
       "      <td>1.209091</td>\n",
       "      <td>1h 13m</td>\n",
       "    </tr>\n",
       "    <tr>\n",
       "      <th>3</th>\n",
       "      <td>Very High (&gt;6h)</td>\n",
       "      <td>0.400000</td>\n",
       "      <td>0h 24m</td>\n",
       "    </tr>\n",
       "  </tbody>\n",
       "</table>\n",
       "</div>"
      ],
      "text/plain": [
       "  Screen Time Category  Deep work (h) in Des Deep work (HH:MM)\n",
       "0           Low (0-2h)              3.233333            3h 14m\n",
       "1        Medium (2-4h)              1.744186            1h 45m\n",
       "2          High (4-6h)              1.209091            1h 13m\n",
       "3      Very High (>6h)              0.400000            0h 24m"
      ]
     },
     "execution_count": 24,
     "metadata": {},
     "output_type": "execute_result"
    }
   ],
   "source": [
    "# Define categories\n",
    "bins = [0, 2, 4, 6, 24]  # example: 0-2h, 2-4h, 4-6h, 6+h\n",
    "labels = [\"Low (0-2h)\", \"Medium (2-4h)\", \"High (4-6h)\", \"Very High (>6h)\"]\n",
    "\n",
    "df[\"Screen Time Category\"] = pd.cut(df[\"Screen Time in Dec\"], bins=bins, labels=labels)\n",
    "\n",
    "# Compute average deep work per category\n",
    "screen_summary = df.groupby(\"Screen Time Category\",observed=False )[\"Deep work (h) in Des\"].mean().reset_index()\n",
    "screen_summary[\"Deep work (HH:MM)\"] = screen_summary[\"Deep work (h) in Des\"].apply(lambda x: f\"{int(x)}h {int(round((x-int(x))*60))}m\")\n",
    "screen_summary"
   ]
  },
  {
   "cell_type": "code",
   "execution_count": 25,
   "id": "b42af5cf-00fa-4c3d-9ba0-4736b00afb0a",
   "metadata": {},
   "outputs": [
    {
     "data": {
      "image/png": "[encoded data removed]",
      "text/plain": [
       "<Figure size 600x400 with 1 Axes>"
      ]
     },
     "metadata": {},
     "output_type": "display_data"
    }
   ],
   "source": [
    "import seaborn as sns\n",
    "\n",
    "plt.figure(figsize=(6,4))\n",
    "sns.barplot(x=\"Screen Time Category\", y=\"Deep work (h) in Des\", data=df)\n",
    "plt.title(\"Deep Work Distribution by Screen TIme Category\")\n",
    "plt.ylabel(\"Deep Work (h)\")\n",
    "plt.show()"
   ]
  },
  {
   "cell_type": "markdown",
   "id": "75ef8841-9629-4895-be15-e08c79eb58e0",
   "metadata": {},
   "source": [
    "Conclusion: Screen Time and Deep Work\n",
    "\n",
    "- Days with low screen time (0–2h) had the highest average deep work at 3.23 hours (~3h 14m).\n",
    "- As screen time increases, average deep work consistently decreases:\n",
    "- Medium (2–4h): 1.71h (~1h 43m)\n",
    "- High (4–6h): 1.21h (~1h 13m)\n",
    "- Very High (>6h): 0.40h (~24 minutes)\n",
    "\n",
    "Insight: \n",
    "\n",
    "- Higher screen time is strongly associated with lower deep work, suggesting that minimizing distractions may significantly improve productivity."
   ]
  },
  {
   "cell_type": "markdown",
   "id": "e594ad82-69f1-4b46-96d8-d9b2c5c14021",
   "metadata": {},
   "source": [
    "Phase 2 – Health & Lifestyle\n",
    "\n",
    "Next, check how lifestyle factors affect each other:\n",
    "\n",
    "4. On days I workout, what happens to steps and sleep?\n",
    "5. When I follow my diet, am I more likely to hit my calorie deficit?\n",
    "6. Do I follow more my diet when I workoout ?\n",
    "7. Do days with both a workout and diet adherence result in higher calorie deficit or more steps?”\n",
    "8. Do I workout more on my day offs or workking days ?\n",
    "9. “Do workout days increase deep work hours compared to non-workout days?\n",
    "\n",
    "\n",
    "👉 These show if your healthy actions connect to outcomes."
   ]
  },
  {
   "cell_type": "markdown",
   "id": "1fe95874-2889-404e-92da-423ac7948520",
   "metadata": {},
   "source": [
    "## 4.1 On days I workout, what happens to steps and sleep?"
   ]
  },
  {
   "cell_type": "code",
   "execution_count": 29,
   "id": "3090c755-74fe-47c0-8376-0edcf1108c62",
   "metadata": {},
   "outputs": [
    {
     "data": {
      "text/html": [
       "<div>\n",
       "<style scoped>\n",
       "    .dataframe tbody tr th:only-of-type {\n",
       "        vertical-align: middle;\n",
       "    }\n",
       "\n",
       "    .dataframe tbody tr th {\n",
       "        vertical-align: top;\n",
       "    }\n",
       "\n",
       "    .dataframe thead th {\n",
       "        text-align: right;\n",
       "    }\n",
       "</style>\n",
       "<table border=\"1\" class=\"dataframe\">\n",
       "  <thead>\n",
       "    <tr style=\"text-align: right;\">\n",
       "      <th></th>\n",
       "      <th>Date</th>\n",
       "      <th>Monthly</th>\n",
       "      <th>My Week</th>\n",
       "      <th>Planned the day</th>\n",
       "      <th>Workout</th>\n",
       "      <th>Diet followed</th>\n",
       "      <th>JOURNAL</th>\n",
       "      <th>Sleep in H</th>\n",
       "      <th>Sleep in Desc</th>\n",
       "      <th>Deep work (h) in T</th>\n",
       "      <th>...</th>\n",
       "      <th>Waist</th>\n",
       "      <th>Neck</th>\n",
       "      <th>Biceps</th>\n",
       "      <th>Forearms</th>\n",
       "      <th>Chest</th>\n",
       "      <th>Calves</th>\n",
       "      <th>Hips</th>\n",
       "      <th>Thighs</th>\n",
       "      <th>Sleep Category</th>\n",
       "      <th>Screen Time Category</th>\n",
       "    </tr>\n",
       "  </thead>\n",
       "  <tbody>\n",
       "    <tr>\n",
       "      <th>0</th>\n",
       "      <td>01/06/2025</td>\n",
       "      <td>June</td>\n",
       "      <td>1</td>\n",
       "      <td>No</td>\n",
       "      <td>No</td>\n",
       "      <td>No</td>\n",
       "      <td>No</td>\n",
       "      <td>6:00</td>\n",
       "      <td>6.0</td>\n",
       "      <td>0:00</td>\n",
       "      <td>...</td>\n",
       "      <td>NaN</td>\n",
       "      <td>NaN</td>\n",
       "      <td>NaN</td>\n",
       "      <td>NaN</td>\n",
       "      <td>NaN</td>\n",
       "      <td>NaN</td>\n",
       "      <td>NaN</td>\n",
       "      <td>NaN</td>\n",
       "      <td>Short (&lt;6h)</td>\n",
       "      <td>High (4-6h)</td>\n",
       "    </tr>\n",
       "    <tr>\n",
       "      <th>1</th>\n",
       "      <td>02/06/2025</td>\n",
       "      <td>June</td>\n",
       "      <td>2</td>\n",
       "      <td>No</td>\n",
       "      <td>No</td>\n",
       "      <td>No</td>\n",
       "      <td>No</td>\n",
       "      <td>7:00</td>\n",
       "      <td>7.0</td>\n",
       "      <td>0:00</td>\n",
       "      <td>...</td>\n",
       "      <td>NaN</td>\n",
       "      <td>NaN</td>\n",
       "      <td>NaN</td>\n",
       "      <td>NaN</td>\n",
       "      <td>NaN</td>\n",
       "      <td>NaN</td>\n",
       "      <td>NaN</td>\n",
       "      <td>NaN</td>\n",
       "      <td>Optimal (6-8h)</td>\n",
       "      <td>High (4-6h)</td>\n",
       "    </tr>\n",
       "    <tr>\n",
       "      <th>2</th>\n",
       "      <td>03/06/2025</td>\n",
       "      <td>June</td>\n",
       "      <td>2</td>\n",
       "      <td>No</td>\n",
       "      <td>No</td>\n",
       "      <td>No</td>\n",
       "      <td>No</td>\n",
       "      <td>6:00</td>\n",
       "      <td>6.0</td>\n",
       "      <td>0:00</td>\n",
       "      <td>...</td>\n",
       "      <td>NaN</td>\n",
       "      <td>NaN</td>\n",
       "      <td>NaN</td>\n",
       "      <td>NaN</td>\n",
       "      <td>NaN</td>\n",
       "      <td>NaN</td>\n",
       "      <td>NaN</td>\n",
       "      <td>NaN</td>\n",
       "      <td>Short (&lt;6h)</td>\n",
       "      <td>High (4-6h)</td>\n",
       "    </tr>\n",
       "    <tr>\n",
       "      <th>3</th>\n",
       "      <td>04/06/2025</td>\n",
       "      <td>June</td>\n",
       "      <td>2</td>\n",
       "      <td>Yes</td>\n",
       "      <td>No</td>\n",
       "      <td>No</td>\n",
       "      <td>No</td>\n",
       "      <td>7:00</td>\n",
       "      <td>7.0</td>\n",
       "      <td>0:00</td>\n",
       "      <td>...</td>\n",
       "      <td>NaN</td>\n",
       "      <td>NaN</td>\n",
       "      <td>NaN</td>\n",
       "      <td>NaN</td>\n",
       "      <td>NaN</td>\n",
       "      <td>NaN</td>\n",
       "      <td>NaN</td>\n",
       "      <td>NaN</td>\n",
       "      <td>Optimal (6-8h)</td>\n",
       "      <td>Very High (&gt;6h)</td>\n",
       "    </tr>\n",
       "    <tr>\n",
       "      <th>4</th>\n",
       "      <td>05/06/2025</td>\n",
       "      <td>June</td>\n",
       "      <td>2</td>\n",
       "      <td>Yes</td>\n",
       "      <td>No</td>\n",
       "      <td>No</td>\n",
       "      <td>No</td>\n",
       "      <td>9:30</td>\n",
       "      <td>9.5</td>\n",
       "      <td>1:00</td>\n",
       "      <td>...</td>\n",
       "      <td>NaN</td>\n",
       "      <td>NaN</td>\n",
       "      <td>NaN</td>\n",
       "      <td>NaN</td>\n",
       "      <td>NaN</td>\n",
       "      <td>NaN</td>\n",
       "      <td>NaN</td>\n",
       "      <td>NaN</td>\n",
       "      <td>Long (&gt;8h)</td>\n",
       "      <td>Very High (&gt;6h)</td>\n",
       "    </tr>\n",
       "  </tbody>\n",
       "</table>\n",
       "<p>5 rows × 36 columns</p>\n",
       "</div>"
      ],
      "text/plain": [
       "         Date Monthly  My Week Planned the day Workout Diet followed JOURNAL  \\\n",
       "0  01/06/2025    June        1              No      No            No      No   \n",
       "1  02/06/2025    June        2              No      No            No      No   \n",
       "2  03/06/2025    June        2              No      No            No      No   \n",
       "3  04/06/2025    June        2             Yes      No            No      No   \n",
       "4  05/06/2025    June        2             Yes      No            No      No   \n",
       "\n",
       "  Sleep in H  Sleep in Desc Deep work (h) in T  ...  Waist Neck  Biceps  \\\n",
       "0       6:00            6.0               0:00  ...    NaN  NaN     NaN   \n",
       "1       7:00            7.0               0:00  ...    NaN  NaN     NaN   \n",
       "2       6:00            6.0               0:00  ...    NaN  NaN     NaN   \n",
       "3       7:00            7.0               0:00  ...    NaN  NaN     NaN   \n",
       "4       9:30            9.5               1:00  ...    NaN  NaN     NaN   \n",
       "\n",
       "  Forearms Chest Calves Hips  Thighs  Sleep Category  Screen Time Category  \n",
       "0      NaN   NaN    NaN  NaN     NaN     Short (<6h)           High (4-6h)  \n",
       "1      NaN   NaN    NaN  NaN     NaN  Optimal (6-8h)           High (4-6h)  \n",
       "2      NaN   NaN    NaN  NaN     NaN     Short (<6h)           High (4-6h)  \n",
       "3      NaN   NaN    NaN  NaN     NaN  Optimal (6-8h)       Very High (>6h)  \n",
       "4      NaN   NaN    NaN  NaN     NaN      Long (>8h)       Very High (>6h)  \n",
       "\n",
       "[5 rows x 36 columns]"
      ]
     },
     "execution_count": 29,
     "metadata": {},
     "output_type": "execute_result"
    }
   ],
   "source": [
    "df.head()"
   ]
  },
  {
   "cell_type": "code",
   "execution_count": 30,
   "id": "c103bccd-1a9c-4ba1-a323-4ced633a1e70",
   "metadata": {},
   "outputs": [
    {
     "data": {
      "text/plain": [
       "0     4,000.00\n",
       "1    15,000.00\n",
       "2    15,000.00\n",
       "3     3,000.00\n",
       "4     3,000.00\n",
       "Name: Steps, dtype: object"
      ]
     },
     "execution_count": 30,
     "metadata": {},
     "output_type": "execute_result"
    }
   ],
   "source": [
    "df.Steps.head()"
   ]
  },
  {
   "cell_type": "code",
   "execution_count": 31,
   "id": "e88f275c-7fcf-4dca-8fe1-70c6f4a3cea3",
   "metadata": {},
   "outputs": [
    {
     "data": {
      "text/html": [
       "<div>\n",
       "<style scoped>\n",
       "    .dataframe tbody tr th:only-of-type {\n",
       "        vertical-align: middle;\n",
       "    }\n",
       "\n",
       "    .dataframe tbody tr th {\n",
       "        vertical-align: top;\n",
       "    }\n",
       "\n",
       "    .dataframe thead th {\n",
       "        text-align: right;\n",
       "    }\n",
       "</style>\n",
       "<table border=\"1\" class=\"dataframe\">\n",
       "  <thead>\n",
       "    <tr style=\"text-align: right;\">\n",
       "      <th></th>\n",
       "      <th>Steps</th>\n",
       "      <th>Workout</th>\n",
       "      <th>Sleep in Desc</th>\n",
       "    </tr>\n",
       "  </thead>\n",
       "  <tbody>\n",
       "    <tr>\n",
       "      <th>0</th>\n",
       "      <td>4,000.00</td>\n",
       "      <td>No</td>\n",
       "      <td>6.0</td>\n",
       "    </tr>\n",
       "    <tr>\n",
       "      <th>1</th>\n",
       "      <td>15,000.00</td>\n",
       "      <td>No</td>\n",
       "      <td>7.0</td>\n",
       "    </tr>\n",
       "    <tr>\n",
       "      <th>2</th>\n",
       "      <td>15,000.00</td>\n",
       "      <td>No</td>\n",
       "      <td>6.0</td>\n",
       "    </tr>\n",
       "    <tr>\n",
       "      <th>3</th>\n",
       "      <td>3,000.00</td>\n",
       "      <td>No</td>\n",
       "      <td>7.0</td>\n",
       "    </tr>\n",
       "    <tr>\n",
       "      <th>4</th>\n",
       "      <td>3,000.00</td>\n",
       "      <td>No</td>\n",
       "      <td>9.5</td>\n",
       "    </tr>\n",
       "    <tr>\n",
       "      <th>...</th>\n",
       "      <td>...</td>\n",
       "      <td>...</td>\n",
       "      <td>...</td>\n",
       "    </tr>\n",
       "    <tr>\n",
       "      <th>117</th>\n",
       "      <td>NaN</td>\n",
       "      <td>No</td>\n",
       "      <td>7.5</td>\n",
       "    </tr>\n",
       "    <tr>\n",
       "      <th>118</th>\n",
       "      <td>NaN</td>\n",
       "      <td>No</td>\n",
       "      <td>NaN</td>\n",
       "    </tr>\n",
       "    <tr>\n",
       "      <th>119</th>\n",
       "      <td>NaN</td>\n",
       "      <td>No</td>\n",
       "      <td>NaN</td>\n",
       "    </tr>\n",
       "    <tr>\n",
       "      <th>120</th>\n",
       "      <td>NaN</td>\n",
       "      <td>No</td>\n",
       "      <td>NaN</td>\n",
       "    </tr>\n",
       "    <tr>\n",
       "      <th>121</th>\n",
       "      <td>NaN</td>\n",
       "      <td>No</td>\n",
       "      <td>NaN</td>\n",
       "    </tr>\n",
       "  </tbody>\n",
       "</table>\n",
       "<p>122 rows × 3 columns</p>\n",
       "</div>"
      ],
      "text/plain": [
       "         Steps Workout  Sleep in Desc\n",
       "0     4,000.00      No            6.0\n",
       "1    15,000.00      No            7.0\n",
       "2    15,000.00      No            6.0\n",
       "3     3,000.00      No            7.0\n",
       "4     3,000.00      No            9.5\n",
       "..         ...     ...            ...\n",
       "117        NaN      No            7.5\n",
       "118        NaN      No            NaN\n",
       "119        NaN      No            NaN\n",
       "120        NaN      No            NaN\n",
       "121        NaN      No            NaN\n",
       "\n",
       "[122 rows x 3 columns]"
      ]
     },
     "execution_count": 31,
     "metadata": {},
     "output_type": "execute_result"
    }
   ],
   "source": [
    "df[[\"Steps\",\"Workout\",\"Sleep in Desc\"]]"
   ]
  },
  {
   "cell_type": "code",
   "execution_count": 32,
   "id": "46efaa8b-e530-430f-af31-1d8a6d665c0f",
   "metadata": {},
   "outputs": [],
   "source": [
    "# Convert all values to string, remove commas/spaces, then to numeric\n",
    "df[\"Steps\"] = pd.to_numeric(df[\"Steps\"].astype(str).str.replace(\",\", \"\").str.strip(), errors=\"coerce\")"
   ]
  },
  {
   "cell_type": "code",
   "execution_count": 33,
   "id": "edb2d1a5-8735-4804-894b-c63755cd6cfd",
   "metadata": {},
   "outputs": [
    {
     "data": {
      "text/html": [
       "<div>\n",
       "<style scoped>\n",
       "    .dataframe tbody tr th:only-of-type {\n",
       "        vertical-align: middle;\n",
       "    }\n",
       "\n",
       "    .dataframe tbody tr th {\n",
       "        vertical-align: top;\n",
       "    }\n",
       "\n",
       "    .dataframe thead th {\n",
       "        text-align: right;\n",
       "    }\n",
       "</style>\n",
       "<table border=\"1\" class=\"dataframe\">\n",
       "  <thead>\n",
       "    <tr style=\"text-align: right;\">\n",
       "      <th></th>\n",
       "      <th>Workout</th>\n",
       "      <th>Steps</th>\n",
       "      <th>Sleep in Desc</th>\n",
       "    </tr>\n",
       "  </thead>\n",
       "  <tbody>\n",
       "    <tr>\n",
       "      <th>0</th>\n",
       "      <td>No</td>\n",
       "      <td>10463.402597</td>\n",
       "      <td>7.805513</td>\n",
       "    </tr>\n",
       "    <tr>\n",
       "      <th>1</th>\n",
       "      <td>Yes</td>\n",
       "      <td>10431.150000</td>\n",
       "      <td>7.635000</td>\n",
       "    </tr>\n",
       "  </tbody>\n",
       "</table>\n",
       "</div>"
      ],
      "text/plain": [
       "  Workout         Steps  Sleep in Desc\n",
       "0      No  10463.402597       7.805513\n",
       "1     Yes  10431.150000       7.635000"
      ]
     },
     "execution_count": 33,
     "metadata": {},
     "output_type": "execute_result"
    }
   ],
   "source": [
    "# Average steps and sleep by workout status\n",
    "\n",
    "workout_summary = df.groupby(\"Workout\")[[\"Steps\", \"Sleep in Desc\"]].mean().reset_index()\n",
    "workout_summary"
   ]
  },
  {
   "cell_type": "code",
   "execution_count": 34,
   "id": "359b6d8a-3cf0-4570-a7dc-34e04ecef347",
   "metadata": {},
   "outputs": [
    {
     "data": {
      "text/html": [
       "<div>\n",
       "<style scoped>\n",
       "    .dataframe tbody tr th:only-of-type {\n",
       "        vertical-align: middle;\n",
       "    }\n",
       "\n",
       "    .dataframe tbody tr th {\n",
       "        vertical-align: top;\n",
       "    }\n",
       "\n",
       "    .dataframe thead th {\n",
       "        text-align: right;\n",
       "    }\n",
       "</style>\n",
       "<table border=\"1\" class=\"dataframe\">\n",
       "  <thead>\n",
       "    <tr style=\"text-align: right;\">\n",
       "      <th></th>\n",
       "      <th>Workout</th>\n",
       "      <th>Steps</th>\n",
       "      <th>Sleep in Desc</th>\n",
       "      <th>Sleep (HH:MM)</th>\n",
       "    </tr>\n",
       "  </thead>\n",
       "  <tbody>\n",
       "    <tr>\n",
       "      <th>0</th>\n",
       "      <td>No</td>\n",
       "      <td>10463.402597</td>\n",
       "      <td>7.805513</td>\n",
       "      <td>7h 48m</td>\n",
       "    </tr>\n",
       "    <tr>\n",
       "      <th>1</th>\n",
       "      <td>Yes</td>\n",
       "      <td>10431.150000</td>\n",
       "      <td>7.635000</td>\n",
       "      <td>7h 38m</td>\n",
       "    </tr>\n",
       "  </tbody>\n",
       "</table>\n",
       "</div>"
      ],
      "text/plain": [
       "  Workout         Steps  Sleep in Desc Sleep (HH:MM)\n",
       "0      No  10463.402597       7.805513        7h 48m\n",
       "1     Yes  10431.150000       7.635000        7h 38m"
      ]
     },
     "execution_count": 34,
     "metadata": {},
     "output_type": "execute_result"
    }
   ],
   "source": [
    "# Optional: show sleep in HH:MM\n",
    "workout_summary[\"Sleep (HH:MM)\"] = workout_summary[\"Sleep in Desc\"].apply(lambda x: f\"{int(x)}h {int(round((x-int(x))*60))}m\")\n",
    "\n",
    "workout_summary"
   ]
  },
  {
   "cell_type": "code",
   "execution_count": 35,
   "id": "c0ff1778-4d96-41cf-ae73-c375f3317218",
   "metadata": {},
   "outputs": [
    {
     "data": {
      "image/png": "[encoded data removed]",
      "text/plain": [
       "<Figure size 640x480 with 1 Axes>"
      ]
     },
     "metadata": {},
     "output_type": "display_data"
    }
   ],
   "source": [
    "sns.barplot(x=\"Workout\",y=\"Steps\",data=workout_summary)\n",
    "plt.show()"
   ]
  },
  {
   "cell_type": "code",
   "execution_count": 36,
   "id": "2d714e7b-4b95-45a0-9404-665cb6bdad30",
   "metadata": {},
   "outputs": [
    {
     "data": {
      "image/png": "[encoded data removed]",
      "text/plain": [
       "<Figure size 640x480 with 1 Axes>"
      ]
     },
     "metadata": {},
     "output_type": "display_data"
    }
   ],
   "source": [
    "sns.barplot(x=\"Workout\",y=\"Sleep in Desc\",data=workout_summary)\n",
    "plt.show()"
   ]
  },
  {
   "cell_type": "markdown",
   "id": "2ae03ab1-b48d-4a37-9624-0c1ce73692f3",
   "metadata": {},
   "source": [
    "- Steps → There’s virtually no difference in your step count on workout vs. non-workout days (~10.4k in both). That means workouts don’t significantly change your overall daily movement — you’re already consistent with steps whether you work out or not.\n",
    "\n",
    "- Sleep → On workout days, you actually sleep slightly less (7h 38m vs. 7h 49m). The difference is small (~11 minutes), so it’s not a major effect, but it suggests workouts don’t necessarily improve your sleep duration."
   ]
  },
  {
   "cell_type": "markdown",
   "id": "e47ab253-7b72-46a7-b7d8-da30eff072d1",
   "metadata": {},
   "source": [
    "## When I follow my diet, am I more likely to hit my calorie deficit?"
   ]
  },
  {
   "cell_type": "code",
   "execution_count": 39,
   "id": "31493ebe-e08d-4182-9d95-eab9bdd3e922",
   "metadata": {},
   "outputs": [
    {
     "data": {
      "text/plain": [
       "Index(['Date', 'Monthly', 'My Week', 'Planned the day', 'Workout',\n",
       "       'Diet followed', 'JOURNAL', 'Sleep in H', 'Sleep in Desc',\n",
       "       'Deep work (h) in T', 'Deep work (h) in Des', 'Steps',\n",
       "       'Daily weight (kg)', 'CD Goal Weekly', 'CD Reality Check',\n",
       "       'Calory Deficit ', 'Screen Time (h)', 'Screen Time in Dec', 'SE',\n",
       "       'PORTUGUESE', 'READ PAGES', 'STATE OF DAY', 'Days of week', 'Body fat%',\n",
       "       'Real Fat Mass', 'Real Lean Body Mass (LBM)', 'Waist', 'Neck', 'Biceps',\n",
       "       'Forearms', 'Chest', 'Calves', 'Hips', 'Thighs', 'Sleep Category',\n",
       "       'Screen Time Category'],\n",
       "      dtype='object')"
      ]
     },
     "execution_count": 39,
     "metadata": {},
     "output_type": "execute_result"
    }
   ],
   "source": [
    "df.columns"
   ]
  },
  {
   "cell_type": "code",
   "execution_count": 40,
   "id": "98967e66-4617-4a2d-855e-c00403b2c15b",
   "metadata": {},
   "outputs": [
    {
     "data": {
      "text/html": [
       "<div>\n",
       "<style scoped>\n",
       "    .dataframe tbody tr th:only-of-type {\n",
       "        vertical-align: middle;\n",
       "    }\n",
       "\n",
       "    .dataframe tbody tr th {\n",
       "        vertical-align: top;\n",
       "    }\n",
       "\n",
       "    .dataframe thead th {\n",
       "        text-align: right;\n",
       "    }\n",
       "</style>\n",
       "<table border=\"1\" class=\"dataframe\">\n",
       "  <thead>\n",
       "    <tr style=\"text-align: right;\">\n",
       "      <th></th>\n",
       "      <th>Diet followed</th>\n",
       "      <th>Calory Deficit</th>\n",
       "    </tr>\n",
       "  </thead>\n",
       "  <tbody>\n",
       "    <tr>\n",
       "      <th>0</th>\n",
       "      <td>No</td>\n",
       "      <td>0</td>\n",
       "    </tr>\n",
       "    <tr>\n",
       "      <th>1</th>\n",
       "      <td>No</td>\n",
       "      <td>0</td>\n",
       "    </tr>\n",
       "    <tr>\n",
       "      <th>2</th>\n",
       "      <td>No</td>\n",
       "      <td>902</td>\n",
       "    </tr>\n",
       "    <tr>\n",
       "      <th>3</th>\n",
       "      <td>No</td>\n",
       "      <td>0</td>\n",
       "    </tr>\n",
       "    <tr>\n",
       "      <th>4</th>\n",
       "      <td>No</td>\n",
       "      <td>0</td>\n",
       "    </tr>\n",
       "  </tbody>\n",
       "</table>\n",
       "</div>"
      ],
      "text/plain": [
       "  Diet followed Calory Deficit \n",
       "0            No               0\n",
       "1            No               0\n",
       "2            No             902\n",
       "3            No               0\n",
       "4            No               0"
      ]
     },
     "execution_count": 40,
     "metadata": {},
     "output_type": "execute_result"
    }
   ],
   "source": [
    "df[[\"Diet followed\",'Calory Deficit ']].head()"
   ]
  },
  {
   "cell_type": "code",
   "execution_count": 41,
   "id": "6e590716-16a1-4e68-8e78-015dcfafc4f0",
   "metadata": {},
   "outputs": [],
   "source": [
    "# convert \n",
    "df[\"Calory Deficit \"] = pd.to_numeric(\n",
    "    df[\"Calory Deficit \"].astype(str).str.replace(\",\",\"\").str.strip(),\n",
    "    errors=\"coerce\"\n",
    ")"
   ]
  },
  {
   "cell_type": "code",
   "execution_count": 42,
   "id": "d9e46b7b-4cb7-4111-b393-141c2360775f",
   "metadata": {},
   "outputs": [
    {
     "data": {
      "text/html": [
       "<div>\n",
       "<style scoped>\n",
       "    .dataframe tbody tr th:only-of-type {\n",
       "        vertical-align: middle;\n",
       "    }\n",
       "\n",
       "    .dataframe tbody tr th {\n",
       "        vertical-align: top;\n",
       "    }\n",
       "\n",
       "    .dataframe thead th {\n",
       "        text-align: right;\n",
       "    }\n",
       "</style>\n",
       "<table border=\"1\" class=\"dataframe\">\n",
       "  <thead>\n",
       "    <tr style=\"text-align: right;\">\n",
       "      <th></th>\n",
       "      <th>Diet followed</th>\n",
       "      <th>Calory Deficit</th>\n",
       "    </tr>\n",
       "  </thead>\n",
       "  <tbody>\n",
       "    <tr>\n",
       "      <th>0</th>\n",
       "      <td>No</td>\n",
       "      <td>50.861111</td>\n",
       "    </tr>\n",
       "    <tr>\n",
       "      <th>1</th>\n",
       "      <td>Yes</td>\n",
       "      <td>-297.234568</td>\n",
       "    </tr>\n",
       "  </tbody>\n",
       "</table>\n",
       "</div>"
      ],
      "text/plain": [
       "  Diet followed  Calory Deficit \n",
       "0            No        50.861111\n",
       "1           Yes      -297.234568"
      ]
     },
     "execution_count": 42,
     "metadata": {},
     "output_type": "execute_result"
    }
   ],
   "source": [
    "diet_summary = df.groupby(\"Diet followed\")[\"Calory Deficit \"].mean().reset_index()\n",
    "diet_summary"
   ]
  },
  {
   "cell_type": "code",
   "execution_count": 43,
   "id": "3ba0f3f8-8473-4353-be5e-2f76b389f7dc",
   "metadata": {},
   "outputs": [
    {
     "data": {
      "image/png": "[encoded data removed]",
      "text/plain": [
       "<Figure size 640x480 with 1 Axes>"
      ]
     },
     "metadata": {},
     "output_type": "display_data"
    }
   ],
   "source": [
    "sns.barplot(x=\"Diet followed\",y=\"Calory Deficit \", data=df)\n",
    "plt.show()"
   ]
  },
  {
   "cell_type": "markdown",
   "id": "2828bdf3-7770-4aa3-80da-dd1741736fd4",
   "metadata": {},
   "source": [
    "- No Diet: On average, individuals who did not follow a diet maintained a calorie surplus of ~50.86 calories.\n",
    "\n",
    "- Diet Followed: On average, individuals who followed a diet achieved a calorie deficit of ~305.03 calories.\n",
    "\n",
    "- Conclusion:\n",
    "  \n",
    "Following a diet is strongly associated with maintaining a calorie deficit, whereas individuals who did not follow a diet tended to have a slight surplus. This suggests that adhering to a diet plan is an effective factor in achieving negative energy balance."
   ]
  },
  {
   "cell_type": "markdown",
   "id": "47d420cb-166f-4a54-880a-6fc4a7064d6f",
   "metadata": {},
   "source": [
    "## 5 6. Do I follow more my diet when I workoout ?"
   ]
  },
  {
   "cell_type": "code",
   "execution_count": 46,
   "id": "2021e25f-f279-431c-8a19-3d735dc6ccdb",
   "metadata": {},
   "outputs": [
    {
     "data": {
      "text/html": [
       "<div>\n",
       "<style scoped>\n",
       "    .dataframe tbody tr th:only-of-type {\n",
       "        vertical-align: middle;\n",
       "    }\n",
       "\n",
       "    .dataframe tbody tr th {\n",
       "        vertical-align: top;\n",
       "    }\n",
       "\n",
       "    .dataframe thead th {\n",
       "        text-align: right;\n",
       "    }\n",
       "</style>\n",
       "<table border=\"1\" class=\"dataframe\">\n",
       "  <thead>\n",
       "    <tr style=\"text-align: right;\">\n",
       "      <th></th>\n",
       "      <th>Date</th>\n",
       "      <th>Monthly</th>\n",
       "      <th>My Week</th>\n",
       "      <th>Planned the day</th>\n",
       "      <th>Workout</th>\n",
       "      <th>Diet followed</th>\n",
       "      <th>JOURNAL</th>\n",
       "      <th>Sleep in H</th>\n",
       "      <th>Sleep in Desc</th>\n",
       "      <th>Deep work (h) in T</th>\n",
       "      <th>...</th>\n",
       "      <th>Waist</th>\n",
       "      <th>Neck</th>\n",
       "      <th>Biceps</th>\n",
       "      <th>Forearms</th>\n",
       "      <th>Chest</th>\n",
       "      <th>Calves</th>\n",
       "      <th>Hips</th>\n",
       "      <th>Thighs</th>\n",
       "      <th>Sleep Category</th>\n",
       "      <th>Screen Time Category</th>\n",
       "    </tr>\n",
       "  </thead>\n",
       "  <tbody>\n",
       "    <tr>\n",
       "      <th>0</th>\n",
       "      <td>01/06/2025</td>\n",
       "      <td>June</td>\n",
       "      <td>1</td>\n",
       "      <td>No</td>\n",
       "      <td>No</td>\n",
       "      <td>No</td>\n",
       "      <td>No</td>\n",
       "      <td>6:00</td>\n",
       "      <td>6.0</td>\n",
       "      <td>0:00</td>\n",
       "      <td>...</td>\n",
       "      <td>NaN</td>\n",
       "      <td>NaN</td>\n",
       "      <td>NaN</td>\n",
       "      <td>NaN</td>\n",
       "      <td>NaN</td>\n",
       "      <td>NaN</td>\n",
       "      <td>NaN</td>\n",
       "      <td>NaN</td>\n",
       "      <td>Short (&lt;6h)</td>\n",
       "      <td>High (4-6h)</td>\n",
       "    </tr>\n",
       "    <tr>\n",
       "      <th>1</th>\n",
       "      <td>02/06/2025</td>\n",
       "      <td>June</td>\n",
       "      <td>2</td>\n",
       "      <td>No</td>\n",
       "      <td>No</td>\n",
       "      <td>No</td>\n",
       "      <td>No</td>\n",
       "      <td>7:00</td>\n",
       "      <td>7.0</td>\n",
       "      <td>0:00</td>\n",
       "      <td>...</td>\n",
       "      <td>NaN</td>\n",
       "      <td>NaN</td>\n",
       "      <td>NaN</td>\n",
       "      <td>NaN</td>\n",
       "      <td>NaN</td>\n",
       "      <td>NaN</td>\n",
       "      <td>NaN</td>\n",
       "      <td>NaN</td>\n",
       "      <td>Optimal (6-8h)</td>\n",
       "      <td>High (4-6h)</td>\n",
       "    </tr>\n",
       "    <tr>\n",
       "      <th>2</th>\n",
       "      <td>03/06/2025</td>\n",
       "      <td>June</td>\n",
       "      <td>2</td>\n",
       "      <td>No</td>\n",
       "      <td>No</td>\n",
       "      <td>No</td>\n",
       "      <td>No</td>\n",
       "      <td>6:00</td>\n",
       "      <td>6.0</td>\n",
       "      <td>0:00</td>\n",
       "      <td>...</td>\n",
       "      <td>NaN</td>\n",
       "      <td>NaN</td>\n",
       "      <td>NaN</td>\n",
       "      <td>NaN</td>\n",
       "      <td>NaN</td>\n",
       "      <td>NaN</td>\n",
       "      <td>NaN</td>\n",
       "      <td>NaN</td>\n",
       "      <td>Short (&lt;6h)</td>\n",
       "      <td>High (4-6h)</td>\n",
       "    </tr>\n",
       "  </tbody>\n",
       "</table>\n",
       "<p>3 rows × 36 columns</p>\n",
       "</div>"
      ],
      "text/plain": [
       "         Date Monthly  My Week Planned the day Workout Diet followed JOURNAL  \\\n",
       "0  01/06/2025    June        1              No      No            No      No   \n",
       "1  02/06/2025    June        2              No      No            No      No   \n",
       "2  03/06/2025    June        2              No      No            No      No   \n",
       "\n",
       "  Sleep in H  Sleep in Desc Deep work (h) in T  ...  Waist  Neck  Biceps  \\\n",
       "0       6:00            6.0               0:00  ...    NaN   NaN     NaN   \n",
       "1       7:00            7.0               0:00  ...    NaN   NaN     NaN   \n",
       "2       6:00            6.0               0:00  ...    NaN   NaN     NaN   \n",
       "\n",
       "  Forearms Chest  Calves Hips  Thighs  Sleep Category  Screen Time Category  \n",
       "0      NaN   NaN     NaN  NaN     NaN     Short (<6h)           High (4-6h)  \n",
       "1      NaN   NaN     NaN  NaN     NaN  Optimal (6-8h)           High (4-6h)  \n",
       "2      NaN   NaN     NaN  NaN     NaN     Short (<6h)           High (4-6h)  \n",
       "\n",
       "[3 rows x 36 columns]"
      ]
     },
     "execution_count": 46,
     "metadata": {},
     "output_type": "execute_result"
    }
   ],
   "source": [
    "df.head(3)"
   ]
  },
  {
   "cell_type": "code",
   "execution_count": 47,
   "id": "ef0102ad-f6c4-4ea3-b152-ada762db0401",
   "metadata": {},
   "outputs": [],
   "source": [
    "workout_days = df[df[\"Workout\"] == \"Yes\"]"
   ]
  },
  {
   "cell_type": "code",
   "execution_count": 48,
   "id": "f2869355-c39f-42cb-be55-40979896e9a9",
   "metadata": {},
   "outputs": [
    {
     "data": {
      "text/plain": [
       "Diet followed\n",
       "Yes    33\n",
       "No      7\n",
       "Name: count, dtype: int64"
      ]
     },
     "execution_count": 48,
     "metadata": {},
     "output_type": "execute_result"
    }
   ],
   "source": [
    "diet_counts = workout_days[\"Diet followed\"].value_counts()\n",
    "diet_counts"
   ]
  },
  {
   "cell_type": "code",
   "execution_count": 49,
   "id": "ba098000-9362-4d20-ba43-edfe5228ec9c",
   "metadata": {},
   "outputs": [
    {
     "data": {
      "image/png": "[encoded data removed]",
      "text/plain": [
       "<Figure size 600x600 with 1 Axes>"
      ]
     },
     "metadata": {},
     "output_type": "display_data"
    }
   ],
   "source": [
    "# Pie chart\n",
    "plt.figure(figsize=(6,6))\n",
    "plt.pie(diet_counts, labels=diet_counts.index, autopct='%1.1f%%', startangle=90)\n",
    "plt.title(\"Diet Adherence on Workout Days\")\n",
    "plt.show()"
   ]
  },
  {
   "cell_type": "markdown",
   "id": "a82337d6-d8b6-4489-beb2-10283bf030c1",
   "metadata": {},
   "source": [
    "Diet Adherence on Workout Days\n",
    "\n",
    "- Out of all days when a workout was performed, the diet was followed 33 times (82.5%) and not followed 7 times (17.5%).\n",
    "\n",
    "Conclusion: On days you exercise, you are highly consistent with your diet, suggesting that workout days are strongly associated with diet adherence."
   ]
  },
  {
   "cell_type": "code",
   "execution_count": 51,
   "id": "2e78512f-9d0b-4bd7-9cdd-09230f7afe93",
   "metadata": {},
   "outputs": [],
   "source": [
    "workout_days_no = df[df[\"Workout\"] == \"No\"]"
   ]
  },
  {
   "cell_type": "code",
   "execution_count": 52,
   "id": "b6df5b0c-83cf-4a3f-aaba-5489a3ceeada",
   "metadata": {},
   "outputs": [
    {
     "data": {
      "text/plain": [
       "Diet followed\n",
       "Yes    48\n",
       "No     34\n",
       "Name: count, dtype: int64"
      ]
     },
     "execution_count": 52,
     "metadata": {},
     "output_type": "execute_result"
    }
   ],
   "source": [
    "diet_counts_no = workout_days_no[\"Diet followed\"].value_counts()\n",
    "diet_counts_no"
   ]
  },
  {
   "cell_type": "code",
   "execution_count": 53,
   "id": "c980e02c-5ec5-4581-8700-4789fd6261a8",
   "metadata": {},
   "outputs": [
    {
     "data": {
      "image/png": "[encoded data removed]",
      "text/plain": [
       "<Figure size 600x600 with 1 Axes>"
      ]
     },
     "metadata": {},
     "output_type": "display_data"
    }
   ],
   "source": [
    "# Pie chart\n",
    "plt.figure(figsize=(6,6))\n",
    "plt.pie(diet_counts_no, labels=diet_counts.index, autopct='%1.1f%%',startangle=90)\n",
    "plt.title(\"Diet Adherence on Rest Days\")\n",
    "plt.show()"
   ]
  },
  {
   "cell_type": "markdown",
   "id": "07d1b66a-42bf-4f03-a36f-b1f421f8bda4",
   "metadata": {},
   "source": [
    "Diet Adherence on Rest Days vs Workout Days\n",
    "\n",
    "Workout days: Diet followed 82.5%, not followed 17.5%\n",
    "\n",
    "Rest days: Diet followed 57.3%, not followed 42.7%\n",
    "\n",
    "Conclusion:\n",
    "You are much more likely to follow your diet on workout days compared to rest days. This suggests that exercising has a positive association with diet adherence."
   ]
  },
  {
   "cell_type": "markdown",
   "id": "8c069dc7-73da-426b-ac51-3c7143784e54",
   "metadata": {},
   "source": [
    "## 6 Do days with both a workout and diet adherence result in higher calorie deficit?”"
   ]
  },
  {
   "cell_type": "code",
   "execution_count": 56,
   "id": "cb465d38-b92c-4ab7-ae00-33e4f966230a",
   "metadata": {},
   "outputs": [],
   "source": [
    "# Two categories: Both vs Neither\n",
    "def both_or_neither(row):\n",
    "    if row[\"Workout\"] == \"Yes\" and row[\"Diet followed\"] == \"Yes\":\n",
    "        return \"Workout_Diet_followed\"\n",
    "    elif row[\"Workout\"] == \"No\" and row[\"Diet followed\"] == \"No\":\n",
    "        return \"Workout_Diet_Not_followed\"\n",
    "    else:\n",
    "        return \"Other\"\n",
    "\n",
    "df[\"Both_or_Neither\"] = df.apply(both_or_neither, axis=1)"
   ]
  },
  {
   "cell_type": "code",
   "execution_count": 57,
   "id": "bd0a335a-6004-4d32-979a-d8743687be36",
   "metadata": {},
   "outputs": [],
   "source": [
    "df_filtered = df[df[\"Both_or_Neither\"].isin([\"Workout_Diet_followed\", \"Workout_Diet_Not_followed\"])]"
   ]
  },
  {
   "cell_type": "code",
   "execution_count": 58,
   "id": "04c516a1-62ea-4c01-a1ed-1cf3d35aea8f",
   "metadata": {},
   "outputs": [
    {
     "name": "stdout",
     "output_type": "stream",
     "text": [
      "             Both_or_Neither  Calory Deficit \n",
      "0  Workout_Diet_Not_followed        87.379310\n",
      "1      Workout_Diet_followed      -295.818182\n"
     ]
    }
   ],
   "source": [
    "cal_deficit_summary = df_filtered.groupby(\"Both_or_Neither\")[\"Calory Deficit \"].mean().reset_index()\n",
    "print(cal_deficit_summary)"
   ]
  },
  {
   "cell_type": "code",
   "execution_count": 59,
   "id": "7efce6ed-9f87-4a15-98a2-982aaabaa51a",
   "metadata": {},
   "outputs": [
    {
     "data": {
      "image/png": "[encoded data removed]",
      "text/plain": [
       "<Figure size 640x480 with 1 Axes>"
      ]
     },
     "metadata": {},
     "output_type": "display_data"
    }
   ],
   "source": [
    "import matplotlib.pyplot as plt\n",
    "\n",
    "ax = cal_deficit_summary.plot(kind=\"bar\", x=\"Both_or_Neither\", y=\"Calory Deficit \", legend=False, color=[\"lightgreen\",\"lightcoral\"])\n",
    "plt.ylabel(\"Average Calorie Deficit\")\n",
    "plt.title(\"Calorie Deficit: Both Followed vs Neither Followed\")\n",
    "plt.xticks(rotation=0)\n",
    "plt.show()\n"
   ]
  },
  {
   "cell_type": "markdown",
   "id": "126d4695-7572-494d-bd93-7c7767836936",
   "metadata": {},
   "source": [
    "- Conclusion:\n",
    "\n",
    "Days where both workout and diet are followed result in a significantly higher calorie deficit compared to days when neither is followed. This suggests that combining exercise and diet adherence has the strongest impact on achieving a calorie deficit."
   ]
  },
  {
   "cell_type": "markdown",
   "id": "5bb0fe45-b12f-4db6-9dc8-498986ea1cad",
   "metadata": {},
   "source": [
    "## 7 Do I workout more on my day offs or workking days ?"
   ]
  },
  {
   "cell_type": "code",
   "execution_count": 62,
   "id": "20830e82-43f0-486b-81f4-444d24d44138",
   "metadata": {},
   "outputs": [
    {
     "data": {
      "text/plain": [
       "Index(['Date', 'Monthly', 'My Week', 'Planned the day', 'Workout',\n",
       "       'Diet followed', 'JOURNAL', 'Sleep in H', 'Sleep in Desc',\n",
       "       'Deep work (h) in T', 'Deep work (h) in Des', 'Steps',\n",
       "       'Daily weight (kg)', 'CD Goal Weekly', 'CD Reality Check',\n",
       "       'Calory Deficit ', 'Screen Time (h)', 'Screen Time in Dec', 'SE',\n",
       "       'PORTUGUESE', 'READ PAGES', 'STATE OF DAY', 'Days of week', 'Body fat%',\n",
       "       'Real Fat Mass', 'Real Lean Body Mass (LBM)', 'Waist', 'Neck', 'Biceps',\n",
       "       'Forearms', 'Chest', 'Calves', 'Hips', 'Thighs', 'Sleep Category',\n",
       "       'Screen Time Category', 'Both_or_Neither'],\n",
       "      dtype='object')"
      ]
     },
     "execution_count": 62,
     "metadata": {},
     "output_type": "execute_result"
    }
   ],
   "source": [
    "df.columns"
   ]
  },
  {
   "cell_type": "code",
   "execution_count": 63,
   "id": "0be207fd-c44d-46cd-b0f4-11275806646e",
   "metadata": {},
   "outputs": [],
   "source": [
    "# Filter only workout days\n",
    "workout_days = df[df['Workout'] == 'Yes']"
   ]
  },
  {
   "cell_type": "code",
   "execution_count": 64,
   "id": "7aad5bf5-50c7-4df0-8d32-f6c538a5ddee",
   "metadata": {},
   "outputs": [
    {
     "data": {
      "text/plain": [
       "Days of week\n",
       "Monday       2\n",
       "Tuesday      8\n",
       "Wednesday    5\n",
       "Thursday     7\n",
       "Friday       5\n",
       "Saturday     4\n",
       "Sunday       9\n",
       "Name: count, dtype: int64"
      ]
     },
     "execution_count": 64,
     "metadata": {},
     "output_type": "execute_result"
    }
   ],
   "source": [
    "#Count workouts per day of the week\n",
    "workout_counts = workout_days['Days of week'].value_counts().reindex(\n",
    "    [\"Monday\", \"Tuesday\", \"Wednesday\", \"Thursday\", \"Friday\", \"Saturday\", \"Sunday\"]\n",
    ")\n",
    "workout_counts"
   ]
  },
  {
   "cell_type": "code",
   "execution_count": 65,
   "id": "4c42cd5f-32c5-481c-81d4-753eb76c199c",
   "metadata": {},
   "outputs": [
    {
     "data": {
      "image/png": "[encoded data removed]",
      "text/plain": [
       "<Figure size 800x500 with 1 Axes>"
      ]
     },
     "metadata": {},
     "output_type": "display_data"
    }
   ],
   "source": [
    "# Plot bar chart\n",
    "workout_counts.plot(kind='bar', color='lightblue', figsize=(8,5))\n",
    "plt.ylabel(\"Number of Workouts\")\n",
    "plt.title(\"Workout Frequency by Day of the Week\")\n",
    "plt.xticks(rotation=0)\n",
    "plt.show()"
   ]
  },
  {
   "cell_type": "markdown",
   "id": "93d233af-8478-4aee-b92a-699782f44cef",
   "metadata": {},
   "source": [
    "Workout Frequency by Day of the Week\n",
    "\n",
    "- Most frequent workouts: Sunday (9), Tuesday (8), Thursday (7)\n",
    "\n",
    "- Moderate frequency: Wednesday (5), Friday (5), Saturday (4)\n",
    "\n",
    "- Least frequent: Monday (2)\n",
    "\n",
    "+ Conclusion:\n",
    "You tend to work out more on Sundays and weekdays in the middle of the week (Tuesday and Thursday), while Mondays have the lowest workout frequency. This reveals your weekly workout pattern and can help you plan consistent routines."
   ]
  },
  {
   "cell_type": "markdown",
   "id": "e572f1f7-0c03-41a9-a99d-8ebc7eba6c96",
   "metadata": {},
   "source": [
    "## 10 “Do workout days increase deep work hours compared to non-workout days?"
   ]
  },
  {
   "cell_type": "code",
   "execution_count": 68,
   "id": "84722f34-b59b-4707-994e-a92e5ca1033c",
   "metadata": {},
   "outputs": [
    {
     "data": {
      "text/plain": [
       "Index(['Date', 'Monthly', 'My Week', 'Planned the day', 'Workout',\n",
       "       'Diet followed', 'JOURNAL', 'Sleep in H', 'Sleep in Desc',\n",
       "       'Deep work (h) in T', 'Deep work (h) in Des', 'Steps',\n",
       "       'Daily weight (kg)', 'CD Goal Weekly', 'CD Reality Check',\n",
       "       'Calory Deficit ', 'Screen Time (h)', 'Screen Time in Dec', 'SE',\n",
       "       'PORTUGUESE', 'READ PAGES', 'STATE OF DAY', 'Days of week', 'Body fat%',\n",
       "       'Real Fat Mass', 'Real Lean Body Mass (LBM)', 'Waist', 'Neck', 'Biceps',\n",
       "       'Forearms', 'Chest', 'Calves', 'Hips', 'Thighs', 'Sleep Category',\n",
       "       'Screen Time Category', 'Both_or_Neither'],\n",
       "      dtype='object')"
      ]
     },
     "execution_count": 68,
     "metadata": {},
     "output_type": "execute_result"
    }
   ],
   "source": [
    "df.columns"
   ]
  },
  {
   "cell_type": "code",
   "execution_count": 69,
   "id": "b821b87f-90dc-480e-accb-6705654c9361",
   "metadata": {},
   "outputs": [
    {
     "data": {
      "text/html": [
       "<div>\n",
       "<style scoped>\n",
       "    .dataframe tbody tr th:only-of-type {\n",
       "        vertical-align: middle;\n",
       "    }\n",
       "\n",
       "    .dataframe tbody tr th {\n",
       "        vertical-align: top;\n",
       "    }\n",
       "\n",
       "    .dataframe thead th {\n",
       "        text-align: right;\n",
       "    }\n",
       "</style>\n",
       "<table border=\"1\" class=\"dataframe\">\n",
       "  <thead>\n",
       "    <tr style=\"text-align: right;\">\n",
       "      <th></th>\n",
       "      <th>Workout</th>\n",
       "      <th>Deep work (h) in Des</th>\n",
       "    </tr>\n",
       "  </thead>\n",
       "  <tbody>\n",
       "    <tr>\n",
       "      <th>0</th>\n",
       "      <td>No</td>\n",
       "      <td>1.380769</td>\n",
       "    </tr>\n",
       "    <tr>\n",
       "      <th>1</th>\n",
       "      <td>Yes</td>\n",
       "      <td>1.302500</td>\n",
       "    </tr>\n",
       "  </tbody>\n",
       "</table>\n",
       "</div>"
      ],
      "text/plain": [
       "  Workout  Deep work (h) in Des\n",
       "0      No              1.380769\n",
       "1     Yes              1.302500"
      ]
     },
     "execution_count": 69,
     "metadata": {},
     "output_type": "execute_result"
    }
   ],
   "source": [
    "deepwork_wo = df.groupby('Workout')['Deep work (h) in Des'].mean().reset_index()\n",
    "deepwork_wo"
   ]
  },
  {
   "cell_type": "code",
   "execution_count": 70,
   "id": "95a7dcfb-0296-4496-b06c-180cc9d22aef",
   "metadata": {},
   "outputs": [
    {
     "data": {
      "image/png": "[encoded data removed]",
      "text/plain": [
       "<Figure size 640x480 with 1 Axes>"
      ]
     },
     "metadata": {},
     "output_type": "display_data"
    }
   ],
   "source": [
    "sns.barplot(x='Workout',y='Deep work (h) in Des',data=df)\n",
    "plt.show()"
   ]
  },
  {
   "cell_type": "code",
   "execution_count": 123,
   "id": "0952737c-df9b-4645-8124-e8690024a22a",
   "metadata": {},
   "outputs": [
    {
     "data": {
      "text/html": [
       "<div>\n",
       "<style scoped>\n",
       "    .dataframe tbody tr th:only-of-type {\n",
       "        vertical-align: middle;\n",
       "    }\n",
       "\n",
       "    .dataframe tbody tr th {\n",
       "        vertical-align: top;\n",
       "    }\n",
       "\n",
       "    .dataframe thead th {\n",
       "        text-align: right;\n",
       "    }\n",
       "</style>\n",
       "<table border=\"1\" class=\"dataframe\">\n",
       "  <thead>\n",
       "    <tr style=\"text-align: right;\">\n",
       "      <th></th>\n",
       "      <th>STATE OF DAY</th>\n",
       "      <th>Deep work (h) in Des</th>\n",
       "    </tr>\n",
       "  </thead>\n",
       "  <tbody>\n",
       "    <tr>\n",
       "      <th>0</th>\n",
       "      <td>OFF</td>\n",
       "      <td>1.600000</td>\n",
       "    </tr>\n",
       "    <tr>\n",
       "      <th>1</th>\n",
       "      <td>ON</td>\n",
       "      <td>1.250602</td>\n",
       "    </tr>\n",
       "  </tbody>\n",
       "</table>\n",
       "</div>"
      ],
      "text/plain": [
       "  STATE OF DAY  Deep work (h) in Des\n",
       "0          OFF              1.600000\n",
       "1           ON              1.250602"
      ]
     },
     "execution_count": 123,
     "metadata": {},
     "output_type": "execute_result"
    }
   ],
   "source": [
    "deepwork_wo = df.groupby('STATE OF DAY')['Deep work (h) in Des'].mean().reset_index()\n",
    "deepwork_wo"
   ]
  },
  {
   "cell_type": "code",
   "execution_count": 121,
   "id": "74c5952f-6e4e-466e-8a58-937fedcbc7f9",
   "metadata": {},
   "outputs": [
    {
     "data": {
      "image/png": "[encoded data removed]",
      "text/plain": [
       "<Figure size 640x480 with 1 Axes>"
      ]
     },
     "metadata": {},
     "output_type": "display_data"
    }
   ],
   "source": [
    "sns.barplot(x='STATE OF DAY',y='Deep work (h) in Des',data=df)\n",
    "plt.show()"
   ]
  },
  {
   "cell_type": "markdown",
   "id": "7d8f8f66-be05-4a0d-9d03-c429778b40c2",
   "metadata": {},
   "source": [
    "Conclusion:\n",
    "Deep work hours are slightly lower on workout days (1.30 h) compared to non-workout days (1.36 h), suggesting that working out does not significantly reduce deep work, and your productivity remains relatively stable regardless of workout."
   ]
  },
  {
   "cell_type": "markdown",
   "id": "ddb143d0-fb46-42fe-abf9-d82bb63debd2",
   "metadata": {},
   "source": [
    "## Phase 3 – Weight & Long-Term Change\n",
    "\n",
    "Once you’ve looked at habits, zoom out to progress:\n",
    "\n",
    "7. Does weekly calorie deficit actually predict weight loss?\n",
    "8. Does monthly calorie deficit actually predict weight loss (here we reduce the noice)?\n",
    "9. Is there a lag between calorie deficit and weight changes (1–2 weeks)?\n",
    "10. Am I consistently hitting my calorie deficit goal?\n"
   ]
  },
  {
   "cell_type": "code",
   "execution_count": 125,
   "id": "c4efbd50-886e-4531-a754-38814f7f3a51",
   "metadata": {},
   "outputs": [
    {
     "data": {
      "text/plain": [
       "Index(['Date', 'Monthly', 'My Week', 'Planned the day', 'Workout',\n",
       "       'Diet followed', 'JOURNAL', 'Sleep in H', 'Sleep in Desc',\n",
       "       'Deep work (h) in T', 'Deep work (h) in Des', 'Steps',\n",
       "       'Daily weight (kg)', 'CD Goal Weekly', 'CD Reality Check',\n",
       "       'Calory Deficit ', 'Screen Time (h)', 'Screen Time in Dec', 'SE',\n",
       "       'PORTUGUESE', 'READ PAGES', 'STATE OF DAY', 'Days of week', 'Body fat%',\n",
       "       'Real Fat Mass', 'Real Lean Body Mass (LBM)', 'Waist', 'Neck', 'Biceps',\n",
       "       'Forearms', 'Chest', 'Calves', 'Hips', 'Thighs', 'Sleep Category',\n",
       "       'Screen Time Category', 'Both_or_Neither'],\n",
       "      dtype='object')"
      ]
     },
     "execution_count": 125,
     "metadata": {},
     "output_type": "execute_result"
    }
   ],
   "source": [
    "df.columns"
   ]
  },
  {
   "cell_type": "markdown",
   "id": "96420b80-85c6-4985-bbcb-9ffa58461ff8",
   "metadata": {},
   "source": [
    "## 7 Does weekly calorie deficit actually predict weight loss?"
   ]
  },
  {
   "cell_type": "code",
   "execution_count": 127,
   "id": "691d0386-b555-4846-9424-c54ca9fab8a0",
   "metadata": {},
   "outputs": [
    {
     "data": {
      "text/html": [
       "<div>\n",
       "<style scoped>\n",
       "    .dataframe tbody tr th:only-of-type {\n",
       "        vertical-align: middle;\n",
       "    }\n",
       "\n",
       "    .dataframe tbody tr th {\n",
       "        vertical-align: top;\n",
       "    }\n",
       "\n",
       "    .dataframe thead th {\n",
       "        text-align: right;\n",
       "    }\n",
       "</style>\n",
       "<table border=\"1\" class=\"dataframe\">\n",
       "  <thead>\n",
       "    <tr style=\"text-align: right;\">\n",
       "      <th></th>\n",
       "      <th>My Week</th>\n",
       "      <th>Daily weight (kg)</th>\n",
       "      <th>Calory Deficit</th>\n",
       "    </tr>\n",
       "  </thead>\n",
       "  <tbody>\n",
       "    <tr>\n",
       "      <th>0</th>\n",
       "      <td>1</td>\n",
       "      <td>80.1</td>\n",
       "      <td>0.0</td>\n",
       "    </tr>\n",
       "    <tr>\n",
       "      <th>1</th>\n",
       "      <td>2</td>\n",
       "      <td>80.1</td>\n",
       "      <td>0.0</td>\n",
       "    </tr>\n",
       "    <tr>\n",
       "      <th>2</th>\n",
       "      <td>2</td>\n",
       "      <td>80.1</td>\n",
       "      <td>902.0</td>\n",
       "    </tr>\n",
       "    <tr>\n",
       "      <th>3</th>\n",
       "      <td>2</td>\n",
       "      <td>80.1</td>\n",
       "      <td>0.0</td>\n",
       "    </tr>\n",
       "    <tr>\n",
       "      <th>4</th>\n",
       "      <td>2</td>\n",
       "      <td>80.1</td>\n",
       "      <td>0.0</td>\n",
       "    </tr>\n",
       "    <tr>\n",
       "      <th>...</th>\n",
       "      <td>...</td>\n",
       "      <td>...</td>\n",
       "      <td>...</td>\n",
       "    </tr>\n",
       "    <tr>\n",
       "      <th>117</th>\n",
       "      <td>18</td>\n",
       "      <td>76.7</td>\n",
       "      <td>NaN</td>\n",
       "    </tr>\n",
       "    <tr>\n",
       "      <th>118</th>\n",
       "      <td>18</td>\n",
       "      <td>NaN</td>\n",
       "      <td>NaN</td>\n",
       "    </tr>\n",
       "    <tr>\n",
       "      <th>119</th>\n",
       "      <td>18</td>\n",
       "      <td>NaN</td>\n",
       "      <td>NaN</td>\n",
       "    </tr>\n",
       "    <tr>\n",
       "      <th>120</th>\n",
       "      <td>19</td>\n",
       "      <td>NaN</td>\n",
       "      <td>NaN</td>\n",
       "    </tr>\n",
       "    <tr>\n",
       "      <th>121</th>\n",
       "      <td>19</td>\n",
       "      <td>NaN</td>\n",
       "      <td>NaN</td>\n",
       "    </tr>\n",
       "  </tbody>\n",
       "</table>\n",
       "<p>122 rows × 3 columns</p>\n",
       "</div>"
      ],
      "text/plain": [
       "     My Week  Daily weight (kg)  Calory Deficit \n",
       "0          1               80.1              0.0\n",
       "1          2               80.1              0.0\n",
       "2          2               80.1            902.0\n",
       "3          2               80.1              0.0\n",
       "4          2               80.1              0.0\n",
       "..       ...                ...              ...\n",
       "117       18               76.7              NaN\n",
       "118       18                NaN              NaN\n",
       "119       18                NaN              NaN\n",
       "120       19                NaN              NaN\n",
       "121       19                NaN              NaN\n",
       "\n",
       "[122 rows x 3 columns]"
      ]
     },
     "execution_count": 127,
     "metadata": {},
     "output_type": "execute_result"
    }
   ],
   "source": [
    "df[['My Week', 'Daily weight (kg)', 'Calory Deficit ']]"
   ]
  },
  {
   "cell_type": "code",
   "execution_count": 276,
   "id": "b1641482-4875-4a12-89c2-3033f59f5141",
   "metadata": {},
   "outputs": [
    {
     "data": {
      "text/html": [
       "<div>\n",
       "<style scoped>\n",
       "    .dataframe tbody tr th:only-of-type {\n",
       "        vertical-align: middle;\n",
       "    }\n",
       "\n",
       "    .dataframe tbody tr th {\n",
       "        vertical-align: top;\n",
       "    }\n",
       "\n",
       "    .dataframe thead th {\n",
       "        text-align: right;\n",
       "    }\n",
       "</style>\n",
       "<table border=\"1\" class=\"dataframe\">\n",
       "  <thead>\n",
       "    <tr style=\"text-align: right;\">\n",
       "      <th></th>\n",
       "      <th>My Week</th>\n",
       "      <th>weekly_deficit</th>\n",
       "      <th>avg_weight</th>\n",
       "    </tr>\n",
       "  </thead>\n",
       "  <tbody>\n",
       "    <tr>\n",
       "      <th>0</th>\n",
       "      <td>1</td>\n",
       "      <td>0.0</td>\n",
       "      <td>80.100000</td>\n",
       "    </tr>\n",
       "    <tr>\n",
       "      <th>1</th>\n",
       "      <td>2</td>\n",
       "      <td>-891.0</td>\n",
       "      <td>80.100000</td>\n",
       "    </tr>\n",
       "    <tr>\n",
       "      <th>2</th>\n",
       "      <td>3</td>\n",
       "      <td>-148.0</td>\n",
       "      <td>80.057143</td>\n",
       "    </tr>\n",
       "    <tr>\n",
       "      <th>3</th>\n",
       "      <td>4</td>\n",
       "      <td>-138.0</td>\n",
       "      <td>79.885714</td>\n",
       "    </tr>\n",
       "    <tr>\n",
       "      <th>4</th>\n",
       "      <td>5</td>\n",
       "      <td>-2546.0</td>\n",
       "      <td>79.385714</td>\n",
       "    </tr>\n",
       "    <tr>\n",
       "      <th>5</th>\n",
       "      <td>6</td>\n",
       "      <td>-698.0</td>\n",
       "      <td>79.214286</td>\n",
       "    </tr>\n",
       "    <tr>\n",
       "      <th>6</th>\n",
       "      <td>7</td>\n",
       "      <td>0.0</td>\n",
       "      <td>79.914286</td>\n",
       "    </tr>\n",
       "    <tr>\n",
       "      <th>7</th>\n",
       "      <td>8</td>\n",
       "      <td>0.0</td>\n",
       "      <td>79.800000</td>\n",
       "    </tr>\n",
       "    <tr>\n",
       "      <th>8</th>\n",
       "      <td>9</td>\n",
       "      <td>-1853.0</td>\n",
       "      <td>79.585714</td>\n",
       "    </tr>\n",
       "    <tr>\n",
       "      <th>9</th>\n",
       "      <td>10</td>\n",
       "      <td>-2450.0</td>\n",
       "      <td>78.971429</td>\n",
       "    </tr>\n",
       "    <tr>\n",
       "      <th>10</th>\n",
       "      <td>11</td>\n",
       "      <td>-2190.0</td>\n",
       "      <td>78.828571</td>\n",
       "    </tr>\n",
       "    <tr>\n",
       "      <th>11</th>\n",
       "      <td>12</td>\n",
       "      <td>-2491.0</td>\n",
       "      <td>78.685714</td>\n",
       "    </tr>\n",
       "    <tr>\n",
       "      <th>12</th>\n",
       "      <td>13</td>\n",
       "      <td>-1967.0</td>\n",
       "      <td>77.100000</td>\n",
       "    </tr>\n",
       "    <tr>\n",
       "      <th>13</th>\n",
       "      <td>14</td>\n",
       "      <td>-1647.0</td>\n",
       "      <td>77.171429</td>\n",
       "    </tr>\n",
       "    <tr>\n",
       "      <th>14</th>\n",
       "      <td>15</td>\n",
       "      <td>-1240.0</td>\n",
       "      <td>77.385714</td>\n",
       "    </tr>\n",
       "    <tr>\n",
       "      <th>15</th>\n",
       "      <td>16</td>\n",
       "      <td>-1869.0</td>\n",
       "      <td>77.100000</td>\n",
       "    </tr>\n",
       "    <tr>\n",
       "      <th>16</th>\n",
       "      <td>17</td>\n",
       "      <td>-1599.0</td>\n",
       "      <td>76.842857</td>\n",
       "    </tr>\n",
       "    <tr>\n",
       "      <th>17</th>\n",
       "      <td>18</td>\n",
       "      <td>-518.0</td>\n",
       "      <td>77.020000</td>\n",
       "    </tr>\n",
       "    <tr>\n",
       "      <th>18</th>\n",
       "      <td>19</td>\n",
       "      <td>0.0</td>\n",
       "      <td>NaN</td>\n",
       "    </tr>\n",
       "  </tbody>\n",
       "</table>\n",
       "</div>"
      ],
      "text/plain": [
       "    My Week  weekly_deficit  avg_weight\n",
       "0         1             0.0   80.100000\n",
       "1         2          -891.0   80.100000\n",
       "2         3          -148.0   80.057143\n",
       "3         4          -138.0   79.885714\n",
       "4         5         -2546.0   79.385714\n",
       "5         6          -698.0   79.214286\n",
       "6         7             0.0   79.914286\n",
       "7         8             0.0   79.800000\n",
       "8         9         -1853.0   79.585714\n",
       "9        10         -2450.0   78.971429\n",
       "10       11         -2190.0   78.828571\n",
       "11       12         -2491.0   78.685714\n",
       "12       13         -1967.0   77.100000\n",
       "13       14         -1647.0   77.171429\n",
       "14       15         -1240.0   77.385714\n",
       "15       16         -1869.0   77.100000\n",
       "16       17         -1599.0   76.842857\n",
       "17       18          -518.0   77.020000\n",
       "18       19             0.0         NaN"
      ]
     },
     "execution_count": 276,
     "metadata": {},
     "output_type": "execute_result"
    }
   ],
   "source": [
    "# Aggregate: weekly average deficit & weekly weight change\n",
    "\n",
    "# 1. Calculate weekly weight change\n",
    "\n",
    "sum_weekly = df.groupby('My Week').agg( weekly_deficit=(\"Calory Deficit \", \"sum\"), avg_weight=('Daily weight (kg)', \"mean\")).reset_index()\n",
    "sum_weekly"
   ]
  },
  {
   "cell_type": "code",
   "execution_count": 284,
   "id": "bd0e45be-501b-4187-b17e-08bb28054b40",
   "metadata": {},
   "outputs": [],
   "source": [
    "sum_weekly = sum_weekly.iloc[:-1]  # keeps all rows except the last"
   ]
  },
  {
   "cell_type": "code",
   "execution_count": 288,
   "id": "53b8fa92-faf1-4a0e-b6ed-c3b4c90dddee",
   "metadata": {},
   "outputs": [
    {
     "name": "stderr",
     "output_type": "stream",
     "text": [
      "/var/folders/46/fvkj_w055_x43knr3qr4xhzw0000gn/T/ipykernel_865/2178534748.py:1: SettingWithCopyWarning: \n",
      "A value is trying to be set on a copy of a slice from a DataFrame.\n",
      "Try using .loc[row_indexer,col_indexer] = value instead\n",
      "\n",
      "See the caveats in the documentation: https://pandas.pydata.org/pandas-docs/stable/user_guide/indexing.html#returning-a-view-versus-a-copy\n",
      "  sum_weekly[\"weight_change\"] = sum_weekly[\"avg_weight\"].diff()\n"
     ]
    }
   ],
   "source": [
    "#1 Calculate weekly weight change\n",
    "sum_weekly[\"weight_change\"] = sum_weekly[\"avg_weight\"].diff()"
   ]
  },
  {
   "cell_type": "code",
   "execution_count": 290,
   "id": "6f442e1c-5c58-4568-9af1-940bd190e659",
   "metadata": {},
   "outputs": [
    {
     "name": "stderr",
     "output_type": "stream",
     "text": [
      "/var/folders/46/fvkj_w055_x43knr3qr4xhzw0000gn/T/ipykernel_865/3254616375.py:1: SettingWithCopyWarning: \n",
      "A value is trying to be set on a copy of a slice from a DataFrame.\n",
      "Try using .loc[row_indexer,col_indexer] = value instead\n",
      "\n",
      "See the caveats in the documentation: https://pandas.pydata.org/pandas-docs/stable/user_guide/indexing.html#returning-a-view-versus-a-copy\n",
      "  sum_weekly[\"deficit_kg_equiv\"] = sum_weekly[\"weekly_deficit\"] / 7700\n"
     ]
    }
   ],
   "source": [
    "#1 Convert deficit → kg-equivalent\n",
    "\n",
    "sum_weekly[\"deficit_kg_equiv\"] = sum_weekly[\"weekly_deficit\"] / 7700"
   ]
  },
  {
   "cell_type": "code",
   "execution_count": 300,
   "id": "a6ee7d84-3efe-49f2-b90c-b96fae7a5cd7",
   "metadata": {},
   "outputs": [],
   "source": [
    "sum_weekly = sum_weekly.iloc[1:].reset_index(drop=True)"
   ]
  },
  {
   "cell_type": "code",
   "execution_count": 318,
   "id": "0e55bd57-9ed8-4d74-93da-b9020957f6eb",
   "metadata": {},
   "outputs": [
    {
     "data": {
      "text/html": [
       "<div>\n",
       "<style scoped>\n",
       "    .dataframe tbody tr th:only-of-type {\n",
       "        vertical-align: middle;\n",
       "    }\n",
       "\n",
       "    .dataframe tbody tr th {\n",
       "        vertical-align: top;\n",
       "    }\n",
       "\n",
       "    .dataframe thead th {\n",
       "        text-align: right;\n",
       "    }\n",
       "</style>\n",
       "<table border=\"1\" class=\"dataframe\">\n",
       "  <thead>\n",
       "    <tr style=\"text-align: right;\">\n",
       "      <th></th>\n",
       "      <th>My Week</th>\n",
       "      <th>weekly_deficit</th>\n",
       "      <th>avg_weight</th>\n",
       "      <th>weight_change</th>\n",
       "      <th>deficit_kg_equiv</th>\n",
       "    </tr>\n",
       "  </thead>\n",
       "  <tbody>\n",
       "    <tr>\n",
       "      <th>0</th>\n",
       "      <td>2</td>\n",
       "      <td>-891.0</td>\n",
       "      <td>80.100000</td>\n",
       "      <td>0.000000</td>\n",
       "      <td>-0.115714</td>\n",
       "    </tr>\n",
       "    <tr>\n",
       "      <th>1</th>\n",
       "      <td>3</td>\n",
       "      <td>-148.0</td>\n",
       "      <td>80.057143</td>\n",
       "      <td>-0.042857</td>\n",
       "      <td>-0.019221</td>\n",
       "    </tr>\n",
       "    <tr>\n",
       "      <th>2</th>\n",
       "      <td>4</td>\n",
       "      <td>-138.0</td>\n",
       "      <td>79.885714</td>\n",
       "      <td>-0.171429</td>\n",
       "      <td>-0.017922</td>\n",
       "    </tr>\n",
       "    <tr>\n",
       "      <th>3</th>\n",
       "      <td>5</td>\n",
       "      <td>-2546.0</td>\n",
       "      <td>79.385714</td>\n",
       "      <td>-0.500000</td>\n",
       "      <td>-0.330649</td>\n",
       "    </tr>\n",
       "    <tr>\n",
       "      <th>4</th>\n",
       "      <td>6</td>\n",
       "      <td>-698.0</td>\n",
       "      <td>79.214286</td>\n",
       "      <td>-0.171429</td>\n",
       "      <td>-0.090649</td>\n",
       "    </tr>\n",
       "    <tr>\n",
       "      <th>5</th>\n",
       "      <td>7</td>\n",
       "      <td>0.0</td>\n",
       "      <td>79.914286</td>\n",
       "      <td>0.700000</td>\n",
       "      <td>0.000000</td>\n",
       "    </tr>\n",
       "    <tr>\n",
       "      <th>6</th>\n",
       "      <td>8</td>\n",
       "      <td>0.0</td>\n",
       "      <td>79.800000</td>\n",
       "      <td>-0.114286</td>\n",
       "      <td>0.000000</td>\n",
       "    </tr>\n",
       "    <tr>\n",
       "      <th>7</th>\n",
       "      <td>9</td>\n",
       "      <td>-1853.0</td>\n",
       "      <td>79.585714</td>\n",
       "      <td>-0.214286</td>\n",
       "      <td>-0.240649</td>\n",
       "    </tr>\n",
       "    <tr>\n",
       "      <th>8</th>\n",
       "      <td>10</td>\n",
       "      <td>-2450.0</td>\n",
       "      <td>78.971429</td>\n",
       "      <td>-0.614286</td>\n",
       "      <td>-0.318182</td>\n",
       "    </tr>\n",
       "    <tr>\n",
       "      <th>9</th>\n",
       "      <td>11</td>\n",
       "      <td>-2190.0</td>\n",
       "      <td>78.828571</td>\n",
       "      <td>-0.142857</td>\n",
       "      <td>-0.284416</td>\n",
       "    </tr>\n",
       "    <tr>\n",
       "      <th>10</th>\n",
       "      <td>12</td>\n",
       "      <td>-2491.0</td>\n",
       "      <td>78.685714</td>\n",
       "      <td>-0.142857</td>\n",
       "      <td>-0.323506</td>\n",
       "    </tr>\n",
       "    <tr>\n",
       "      <th>11</th>\n",
       "      <td>13</td>\n",
       "      <td>-1967.0</td>\n",
       "      <td>77.100000</td>\n",
       "      <td>-1.585714</td>\n",
       "      <td>-0.255455</td>\n",
       "    </tr>\n",
       "    <tr>\n",
       "      <th>12</th>\n",
       "      <td>14</td>\n",
       "      <td>-1647.0</td>\n",
       "      <td>77.171429</td>\n",
       "      <td>0.071429</td>\n",
       "      <td>-0.213896</td>\n",
       "    </tr>\n",
       "    <tr>\n",
       "      <th>13</th>\n",
       "      <td>15</td>\n",
       "      <td>-1240.0</td>\n",
       "      <td>77.385714</td>\n",
       "      <td>0.214286</td>\n",
       "      <td>-0.161039</td>\n",
       "    </tr>\n",
       "    <tr>\n",
       "      <th>14</th>\n",
       "      <td>16</td>\n",
       "      <td>-1869.0</td>\n",
       "      <td>77.100000</td>\n",
       "      <td>-0.285714</td>\n",
       "      <td>-0.242727</td>\n",
       "    </tr>\n",
       "    <tr>\n",
       "      <th>15</th>\n",
       "      <td>17</td>\n",
       "      <td>-1599.0</td>\n",
       "      <td>76.842857</td>\n",
       "      <td>-0.257143</td>\n",
       "      <td>-0.207662</td>\n",
       "    </tr>\n",
       "    <tr>\n",
       "      <th>16</th>\n",
       "      <td>18</td>\n",
       "      <td>-518.0</td>\n",
       "      <td>77.020000</td>\n",
       "      <td>0.177143</td>\n",
       "      <td>-0.067273</td>\n",
       "    </tr>\n",
       "  </tbody>\n",
       "</table>\n",
       "</div>"
      ],
      "text/plain": [
       "    My Week  weekly_deficit  avg_weight  weight_change  deficit_kg_equiv\n",
       "0         2          -891.0   80.100000       0.000000         -0.115714\n",
       "1         3          -148.0   80.057143      -0.042857         -0.019221\n",
       "2         4          -138.0   79.885714      -0.171429         -0.017922\n",
       "3         5         -2546.0   79.385714      -0.500000         -0.330649\n",
       "4         6          -698.0   79.214286      -0.171429         -0.090649\n",
       "5         7             0.0   79.914286       0.700000          0.000000\n",
       "6         8             0.0   79.800000      -0.114286          0.000000\n",
       "7         9         -1853.0   79.585714      -0.214286         -0.240649\n",
       "8        10         -2450.0   78.971429      -0.614286         -0.318182\n",
       "9        11         -2190.0   78.828571      -0.142857         -0.284416\n",
       "10       12         -2491.0   78.685714      -0.142857         -0.323506\n",
       "11       13         -1967.0   77.100000      -1.585714         -0.255455\n",
       "12       14         -1647.0   77.171429       0.071429         -0.213896\n",
       "13       15         -1240.0   77.385714       0.214286         -0.161039\n",
       "14       16         -1869.0   77.100000      -0.285714         -0.242727\n",
       "15       17         -1599.0   76.842857      -0.257143         -0.207662\n",
       "16       18          -518.0   77.020000       0.177143         -0.067273"
      ]
     },
     "execution_count": 318,
     "metadata": {},
     "output_type": "execute_result"
    }
   ],
   "source": [
    "sum_weekly"
   ]
  },
  {
   "cell_type": "code",
   "execution_count": 338,
   "id": "1977f857-a726-409f-8ddc-a5207a74b63f",
   "metadata": {},
   "outputs": [
    {
     "data": {
      "text/plain": [
       "Text(17.515625000000007, 0.5, 'Weight Change (kg)')"
      ]
     },
     "execution_count": 338,
     "metadata": {},
     "output_type": "execute_result"
    },
    {
     "data": {
      "image/png": "[encoded data removed]",
      "text/plain": [
       "<Figure size 500x500 with 1 Axes>"
      ]
     },
     "metadata": {},
     "output_type": "display_data"
    }
   ],
   "source": [
    "# Visualize scatter + regression\n",
    "sns.lmplot(\n",
    "    data=sum_weekly,\n",
    "    x=\"deficit_kg_equiv\",\n",
    "    y=\"weight_change\",\n",
    ")\n",
    "plt.title(\"Weekly Calorie Deficit vs Weekly Weight Change\")\n",
    "plt.xlabel(\"Calorie Deficit (kg equivalent)\")\n",
    "plt.ylabel(\"Weight Change (kg)\")"
   ]
  },
  {
   "cell_type": "code",
   "execution_count": 336,
   "id": "fe09da1e-9946-443e-80e5-f196ef661976",
   "metadata": {},
   "outputs": [
    {
     "name": "stdout",
     "output_type": "stream",
     "text": [
      "Correlation coefficient r = 0.518, p-value = 0.033\n"
     ]
    }
   ],
   "source": [
    "from scipy.stats import pearsonr\n",
    "\n",
    "#Compute correlation & p-value\n",
    "\n",
    "r, p = pearsonr(sum_weekly[\"deficit_kg_equiv\"], sum_weekly[\"weight_change\"])\n",
    "print(f\"Correlation coefficient r = {r:.3f}, p-value = {p:.3f}\")"
   ]
  },
  {
   "cell_type": "markdown",
   "id": "e549502a-7d26-44a6-b207-dca112e3c9c2",
   "metadata": {},
   "source": [
    "Interpretation:\n",
    "\n",
    "r < 0 → higher deficit → more weight loss\n",
    "\n",
    "p < 0.05 → relationship is statistically significant"
   ]
  },
  {
   "cell_type": "code",
   "execution_count": 342,
   "id": "db344f48-8fea-4263-bcb4-5f5c7146d0f8",
   "metadata": {},
   "outputs": [
    {
     "data": {
      "text/html": [
       "<div>\n",
       "<style scoped>\n",
       "    .dataframe tbody tr th:only-of-type {\n",
       "        vertical-align: middle;\n",
       "    }\n",
       "\n",
       "    .dataframe tbody tr th {\n",
       "        vertical-align: top;\n",
       "    }\n",
       "\n",
       "    .dataframe thead th {\n",
       "        text-align: right;\n",
       "    }\n",
       "</style>\n",
       "<table border=\"1\" class=\"dataframe\">\n",
       "  <thead>\n",
       "    <tr style=\"text-align: right;\">\n",
       "      <th></th>\n",
       "      <th>My Week</th>\n",
       "      <th>weekly_deficit</th>\n",
       "      <th>avg_weight</th>\n",
       "      <th>weight_change</th>\n",
       "      <th>deficit_kg_equiv</th>\n",
       "    </tr>\n",
       "  </thead>\n",
       "  <tbody>\n",
       "    <tr>\n",
       "      <th>0</th>\n",
       "      <td>2</td>\n",
       "      <td>-891.0</td>\n",
       "      <td>80.100000</td>\n",
       "      <td>0.000000</td>\n",
       "      <td>-0.115714</td>\n",
       "    </tr>\n",
       "    <tr>\n",
       "      <th>1</th>\n",
       "      <td>3</td>\n",
       "      <td>-148.0</td>\n",
       "      <td>80.057143</td>\n",
       "      <td>-0.042857</td>\n",
       "      <td>-0.019221</td>\n",
       "    </tr>\n",
       "    <tr>\n",
       "      <th>2</th>\n",
       "      <td>4</td>\n",
       "      <td>-138.0</td>\n",
       "      <td>79.885714</td>\n",
       "      <td>-0.171429</td>\n",
       "      <td>-0.017922</td>\n",
       "    </tr>\n",
       "    <tr>\n",
       "      <th>3</th>\n",
       "      <td>5</td>\n",
       "      <td>-2546.0</td>\n",
       "      <td>79.385714</td>\n",
       "      <td>-0.500000</td>\n",
       "      <td>-0.330649</td>\n",
       "    </tr>\n",
       "    <tr>\n",
       "      <th>4</th>\n",
       "      <td>6</td>\n",
       "      <td>-698.0</td>\n",
       "      <td>79.214286</td>\n",
       "      <td>-0.171429</td>\n",
       "      <td>-0.090649</td>\n",
       "    </tr>\n",
       "    <tr>\n",
       "      <th>5</th>\n",
       "      <td>7</td>\n",
       "      <td>0.0</td>\n",
       "      <td>79.914286</td>\n",
       "      <td>0.700000</td>\n",
       "      <td>0.000000</td>\n",
       "    </tr>\n",
       "    <tr>\n",
       "      <th>6</th>\n",
       "      <td>8</td>\n",
       "      <td>0.0</td>\n",
       "      <td>79.800000</td>\n",
       "      <td>-0.114286</td>\n",
       "      <td>0.000000</td>\n",
       "    </tr>\n",
       "    <tr>\n",
       "      <th>7</th>\n",
       "      <td>9</td>\n",
       "      <td>-1853.0</td>\n",
       "      <td>79.585714</td>\n",
       "      <td>-0.214286</td>\n",
       "      <td>-0.240649</td>\n",
       "    </tr>\n",
       "    <tr>\n",
       "      <th>8</th>\n",
       "      <td>10</td>\n",
       "      <td>-2450.0</td>\n",
       "      <td>78.971429</td>\n",
       "      <td>-0.614286</td>\n",
       "      <td>-0.318182</td>\n",
       "    </tr>\n",
       "    <tr>\n",
       "      <th>9</th>\n",
       "      <td>11</td>\n",
       "      <td>-2190.0</td>\n",
       "      <td>78.828571</td>\n",
       "      <td>-0.142857</td>\n",
       "      <td>-0.284416</td>\n",
       "    </tr>\n",
       "    <tr>\n",
       "      <th>10</th>\n",
       "      <td>12</td>\n",
       "      <td>-2491.0</td>\n",
       "      <td>78.685714</td>\n",
       "      <td>-0.142857</td>\n",
       "      <td>-0.323506</td>\n",
       "    </tr>\n",
       "    <tr>\n",
       "      <th>11</th>\n",
       "      <td>13</td>\n",
       "      <td>-1967.0</td>\n",
       "      <td>77.100000</td>\n",
       "      <td>-1.585714</td>\n",
       "      <td>-0.255455</td>\n",
       "    </tr>\n",
       "    <tr>\n",
       "      <th>12</th>\n",
       "      <td>14</td>\n",
       "      <td>-1647.0</td>\n",
       "      <td>77.171429</td>\n",
       "      <td>0.071429</td>\n",
       "      <td>-0.213896</td>\n",
       "    </tr>\n",
       "    <tr>\n",
       "      <th>13</th>\n",
       "      <td>15</td>\n",
       "      <td>-1240.0</td>\n",
       "      <td>77.385714</td>\n",
       "      <td>0.214286</td>\n",
       "      <td>-0.161039</td>\n",
       "    </tr>\n",
       "    <tr>\n",
       "      <th>14</th>\n",
       "      <td>16</td>\n",
       "      <td>-1869.0</td>\n",
       "      <td>77.100000</td>\n",
       "      <td>-0.285714</td>\n",
       "      <td>-0.242727</td>\n",
       "    </tr>\n",
       "    <tr>\n",
       "      <th>15</th>\n",
       "      <td>17</td>\n",
       "      <td>-1599.0</td>\n",
       "      <td>76.842857</td>\n",
       "      <td>-0.257143</td>\n",
       "      <td>-0.207662</td>\n",
       "    </tr>\n",
       "    <tr>\n",
       "      <th>16</th>\n",
       "      <td>18</td>\n",
       "      <td>-518.0</td>\n",
       "      <td>77.020000</td>\n",
       "      <td>0.177143</td>\n",
       "      <td>-0.067273</td>\n",
       "    </tr>\n",
       "  </tbody>\n",
       "</table>\n",
       "</div>"
      ],
      "text/plain": [
       "    My Week  weekly_deficit  avg_weight  weight_change  deficit_kg_equiv\n",
       "0         2          -891.0   80.100000       0.000000         -0.115714\n",
       "1         3          -148.0   80.057143      -0.042857         -0.019221\n",
       "2         4          -138.0   79.885714      -0.171429         -0.017922\n",
       "3         5         -2546.0   79.385714      -0.500000         -0.330649\n",
       "4         6          -698.0   79.214286      -0.171429         -0.090649\n",
       "5         7             0.0   79.914286       0.700000          0.000000\n",
       "6         8             0.0   79.800000      -0.114286          0.000000\n",
       "7         9         -1853.0   79.585714      -0.214286         -0.240649\n",
       "8        10         -2450.0   78.971429      -0.614286         -0.318182\n",
       "9        11         -2190.0   78.828571      -0.142857         -0.284416\n",
       "10       12         -2491.0   78.685714      -0.142857         -0.323506\n",
       "11       13         -1967.0   77.100000      -1.585714         -0.255455\n",
       "12       14         -1647.0   77.171429       0.071429         -0.213896\n",
       "13       15         -1240.0   77.385714       0.214286         -0.161039\n",
       "14       16         -1869.0   77.100000      -0.285714         -0.242727\n",
       "15       17         -1599.0   76.842857      -0.257143         -0.207662\n",
       "16       18          -518.0   77.020000       0.177143         -0.067273"
      ]
     },
     "execution_count": 342,
     "metadata": {},
     "output_type": "execute_result"
    }
   ],
   "source": [
    "sum_weekly"
   ]
  },
  {
   "cell_type": "code",
   "execution_count": 380,
   "id": "d7e3b48d-6b9e-4b67-b30b-692f259f75b1",
   "metadata": {},
   "outputs": [],
   "source": [
    "sum_weekly[\"expected_weight_loss_deficit\"] = sum_weekly[\"deficit_kg_equiv\"]"
   ]
  },
  {
   "cell_type": "code",
   "execution_count": 382,
   "id": "874d3da1-3d7d-4d2b-93cd-b5ba647a1699",
   "metadata": {},
   "outputs": [
    {
     "data": {
      "text/html": [
       "<div>\n",
       "<style scoped>\n",
       "    .dataframe tbody tr th:only-of-type {\n",
       "        vertical-align: middle;\n",
       "    }\n",
       "\n",
       "    .dataframe tbody tr th {\n",
       "        vertical-align: top;\n",
       "    }\n",
       "\n",
       "    .dataframe thead th {\n",
       "        text-align: right;\n",
       "    }\n",
       "</style>\n",
       "<table border=\"1\" class=\"dataframe\">\n",
       "  <thead>\n",
       "    <tr style=\"text-align: right;\">\n",
       "      <th></th>\n",
       "      <th>My Week</th>\n",
       "      <th>weekly_deficit</th>\n",
       "      <th>avg_weight</th>\n",
       "      <th>weight_change</th>\n",
       "      <th>deficit_kg_equiv</th>\n",
       "      <th>expected_weight_loss</th>\n",
       "      <th>gap_kg</th>\n",
       "      <th>expected_weight_loss_deficit</th>\n",
       "    </tr>\n",
       "  </thead>\n",
       "  <tbody>\n",
       "    <tr>\n",
       "      <th>0</th>\n",
       "      <td>2</td>\n",
       "      <td>-891.0</td>\n",
       "      <td>80.100000</td>\n",
       "      <td>0.000000</td>\n",
       "      <td>-0.115714</td>\n",
       "      <td>-0.115714</td>\n",
       "      <td>0.115714</td>\n",
       "      <td>-0.115714</td>\n",
       "    </tr>\n",
       "    <tr>\n",
       "      <th>1</th>\n",
       "      <td>3</td>\n",
       "      <td>-148.0</td>\n",
       "      <td>80.057143</td>\n",
       "      <td>-0.042857</td>\n",
       "      <td>-0.019221</td>\n",
       "      <td>-0.019221</td>\n",
       "      <td>-0.023636</td>\n",
       "      <td>-0.019221</td>\n",
       "    </tr>\n",
       "    <tr>\n",
       "      <th>2</th>\n",
       "      <td>4</td>\n",
       "      <td>-138.0</td>\n",
       "      <td>79.885714</td>\n",
       "      <td>-0.171429</td>\n",
       "      <td>-0.017922</td>\n",
       "      <td>-0.017922</td>\n",
       "      <td>-0.153506</td>\n",
       "      <td>-0.017922</td>\n",
       "    </tr>\n",
       "    <tr>\n",
       "      <th>3</th>\n",
       "      <td>5</td>\n",
       "      <td>-2546.0</td>\n",
       "      <td>79.385714</td>\n",
       "      <td>-0.500000</td>\n",
       "      <td>-0.330649</td>\n",
       "      <td>-0.330649</td>\n",
       "      <td>-0.169351</td>\n",
       "      <td>-0.330649</td>\n",
       "    </tr>\n",
       "    <tr>\n",
       "      <th>4</th>\n",
       "      <td>6</td>\n",
       "      <td>-698.0</td>\n",
       "      <td>79.214286</td>\n",
       "      <td>-0.171429</td>\n",
       "      <td>-0.090649</td>\n",
       "      <td>-0.090649</td>\n",
       "      <td>-0.080779</td>\n",
       "      <td>-0.090649</td>\n",
       "    </tr>\n",
       "    <tr>\n",
       "      <th>5</th>\n",
       "      <td>7</td>\n",
       "      <td>0.0</td>\n",
       "      <td>79.914286</td>\n",
       "      <td>0.700000</td>\n",
       "      <td>0.000000</td>\n",
       "      <td>0.000000</td>\n",
       "      <td>0.700000</td>\n",
       "      <td>0.000000</td>\n",
       "    </tr>\n",
       "    <tr>\n",
       "      <th>6</th>\n",
       "      <td>8</td>\n",
       "      <td>0.0</td>\n",
       "      <td>79.800000</td>\n",
       "      <td>-0.114286</td>\n",
       "      <td>0.000000</td>\n",
       "      <td>0.000000</td>\n",
       "      <td>-0.114286</td>\n",
       "      <td>0.000000</td>\n",
       "    </tr>\n",
       "    <tr>\n",
       "      <th>7</th>\n",
       "      <td>9</td>\n",
       "      <td>-1853.0</td>\n",
       "      <td>79.585714</td>\n",
       "      <td>-0.214286</td>\n",
       "      <td>-0.240649</td>\n",
       "      <td>-0.240649</td>\n",
       "      <td>0.026364</td>\n",
       "      <td>-0.240649</td>\n",
       "    </tr>\n",
       "    <tr>\n",
       "      <th>8</th>\n",
       "      <td>10</td>\n",
       "      <td>-2450.0</td>\n",
       "      <td>78.971429</td>\n",
       "      <td>-0.614286</td>\n",
       "      <td>-0.318182</td>\n",
       "      <td>-0.318182</td>\n",
       "      <td>-0.296104</td>\n",
       "      <td>-0.318182</td>\n",
       "    </tr>\n",
       "    <tr>\n",
       "      <th>9</th>\n",
       "      <td>11</td>\n",
       "      <td>-2190.0</td>\n",
       "      <td>78.828571</td>\n",
       "      <td>-0.142857</td>\n",
       "      <td>-0.284416</td>\n",
       "      <td>-0.284416</td>\n",
       "      <td>0.141558</td>\n",
       "      <td>-0.284416</td>\n",
       "    </tr>\n",
       "    <tr>\n",
       "      <th>10</th>\n",
       "      <td>12</td>\n",
       "      <td>-2491.0</td>\n",
       "      <td>78.685714</td>\n",
       "      <td>-0.142857</td>\n",
       "      <td>-0.323506</td>\n",
       "      <td>-0.323506</td>\n",
       "      <td>0.180649</td>\n",
       "      <td>-0.323506</td>\n",
       "    </tr>\n",
       "    <tr>\n",
       "      <th>11</th>\n",
       "      <td>13</td>\n",
       "      <td>-1967.0</td>\n",
       "      <td>77.100000</td>\n",
       "      <td>-1.585714</td>\n",
       "      <td>-0.255455</td>\n",
       "      <td>-0.255455</td>\n",
       "      <td>-1.330260</td>\n",
       "      <td>-0.255455</td>\n",
       "    </tr>\n",
       "    <tr>\n",
       "      <th>12</th>\n",
       "      <td>14</td>\n",
       "      <td>-1647.0</td>\n",
       "      <td>77.171429</td>\n",
       "      <td>0.071429</td>\n",
       "      <td>-0.213896</td>\n",
       "      <td>-0.213896</td>\n",
       "      <td>0.285325</td>\n",
       "      <td>-0.213896</td>\n",
       "    </tr>\n",
       "    <tr>\n",
       "      <th>13</th>\n",
       "      <td>15</td>\n",
       "      <td>-1240.0</td>\n",
       "      <td>77.385714</td>\n",
       "      <td>0.214286</td>\n",
       "      <td>-0.161039</td>\n",
       "      <td>-0.161039</td>\n",
       "      <td>0.375325</td>\n",
       "      <td>-0.161039</td>\n",
       "    </tr>\n",
       "    <tr>\n",
       "      <th>14</th>\n",
       "      <td>16</td>\n",
       "      <td>-1869.0</td>\n",
       "      <td>77.100000</td>\n",
       "      <td>-0.285714</td>\n",
       "      <td>-0.242727</td>\n",
       "      <td>-0.242727</td>\n",
       "      <td>-0.042987</td>\n",
       "      <td>-0.242727</td>\n",
       "    </tr>\n",
       "    <tr>\n",
       "      <th>15</th>\n",
       "      <td>17</td>\n",
       "      <td>-1599.0</td>\n",
       "      <td>76.842857</td>\n",
       "      <td>-0.257143</td>\n",
       "      <td>-0.207662</td>\n",
       "      <td>-0.207662</td>\n",
       "      <td>-0.049481</td>\n",
       "      <td>-0.207662</td>\n",
       "    </tr>\n",
       "    <tr>\n",
       "      <th>16</th>\n",
       "      <td>18</td>\n",
       "      <td>-518.0</td>\n",
       "      <td>77.020000</td>\n",
       "      <td>0.177143</td>\n",
       "      <td>-0.067273</td>\n",
       "      <td>-0.067273</td>\n",
       "      <td>0.244416</td>\n",
       "      <td>-0.067273</td>\n",
       "    </tr>\n",
       "  </tbody>\n",
       "</table>\n",
       "</div>"
      ],
      "text/plain": [
       "    My Week  weekly_deficit  avg_weight  weight_change  deficit_kg_equiv  \\\n",
       "0         2          -891.0   80.100000       0.000000         -0.115714   \n",
       "1         3          -148.0   80.057143      -0.042857         -0.019221   \n",
       "2         4          -138.0   79.885714      -0.171429         -0.017922   \n",
       "3         5         -2546.0   79.385714      -0.500000         -0.330649   \n",
       "4         6          -698.0   79.214286      -0.171429         -0.090649   \n",
       "5         7             0.0   79.914286       0.700000          0.000000   \n",
       "6         8             0.0   79.800000      -0.114286          0.000000   \n",
       "7         9         -1853.0   79.585714      -0.214286         -0.240649   \n",
       "8        10         -2450.0   78.971429      -0.614286         -0.318182   \n",
       "9        11         -2190.0   78.828571      -0.142857         -0.284416   \n",
       "10       12         -2491.0   78.685714      -0.142857         -0.323506   \n",
       "11       13         -1967.0   77.100000      -1.585714         -0.255455   \n",
       "12       14         -1647.0   77.171429       0.071429         -0.213896   \n",
       "13       15         -1240.0   77.385714       0.214286         -0.161039   \n",
       "14       16         -1869.0   77.100000      -0.285714         -0.242727   \n",
       "15       17         -1599.0   76.842857      -0.257143         -0.207662   \n",
       "16       18          -518.0   77.020000       0.177143         -0.067273   \n",
       "\n",
       "    expected_weight_loss    gap_kg  expected_weight_loss_deficit  \n",
       "0              -0.115714  0.115714                     -0.115714  \n",
       "1              -0.019221 -0.023636                     -0.019221  \n",
       "2              -0.017922 -0.153506                     -0.017922  \n",
       "3              -0.330649 -0.169351                     -0.330649  \n",
       "4              -0.090649 -0.080779                     -0.090649  \n",
       "5               0.000000  0.700000                      0.000000  \n",
       "6               0.000000 -0.114286                      0.000000  \n",
       "7              -0.240649  0.026364                     -0.240649  \n",
       "8              -0.318182 -0.296104                     -0.318182  \n",
       "9              -0.284416  0.141558                     -0.284416  \n",
       "10             -0.323506  0.180649                     -0.323506  \n",
       "11             -0.255455 -1.330260                     -0.255455  \n",
       "12             -0.213896  0.285325                     -0.213896  \n",
       "13             -0.161039  0.375325                     -0.161039  \n",
       "14             -0.242727 -0.042987                     -0.242727  \n",
       "15             -0.207662 -0.049481                     -0.207662  \n",
       "16             -0.067273  0.244416                     -0.067273  "
      ]
     },
     "execution_count": 382,
     "metadata": {},
     "output_type": "execute_result"
    }
   ],
   "source": [
    "sum_weekly"
   ]
  },
  {
   "cell_type": "code",
   "execution_count": 348,
   "id": "3389f3cc-1661-40dc-97c6-0ca1c2c11a87",
   "metadata": {},
   "outputs": [],
   "source": [
    "sum_weekly[\"gap_kg\"] = sum_weekly[\"weight_change\"] - sum_weekly[\"expected_weight_loss\"]"
   ]
  },
  {
   "cell_type": "code",
   "execution_count": 402,
   "id": "4bbc2e1d-51f8-4bde-a0d9-8905d06e1850",
   "metadata": {},
   "outputs": [
    {
     "data": {
      "text/html": [
       "<div>\n",
       "<style scoped>\n",
       "    .dataframe tbody tr th:only-of-type {\n",
       "        vertical-align: middle;\n",
       "    }\n",
       "\n",
       "    .dataframe tbody tr th {\n",
       "        vertical-align: top;\n",
       "    }\n",
       "\n",
       "    .dataframe thead th {\n",
       "        text-align: right;\n",
       "    }\n",
       "</style>\n",
       "<table border=\"1\" class=\"dataframe\">\n",
       "  <thead>\n",
       "    <tr style=\"text-align: right;\">\n",
       "      <th></th>\n",
       "      <th>My Week</th>\n",
       "      <th>avg_weight</th>\n",
       "      <th>expected_weight_loss_deficit</th>\n",
       "      <th>weight_change</th>\n",
       "      <th>gap_kg</th>\n",
       "    </tr>\n",
       "  </thead>\n",
       "  <tbody>\n",
       "    <tr>\n",
       "      <th>12</th>\n",
       "      <td>14</td>\n",
       "      <td>77.171</td>\n",
       "      <td>-0.214</td>\n",
       "      <td>0.071</td>\n",
       "      <td>0.285</td>\n",
       "    </tr>\n",
       "    <tr>\n",
       "      <th>13</th>\n",
       "      <td>15</td>\n",
       "      <td>77.386</td>\n",
       "      <td>-0.161</td>\n",
       "      <td>0.214</td>\n",
       "      <td>0.375</td>\n",
       "    </tr>\n",
       "    <tr>\n",
       "      <th>14</th>\n",
       "      <td>16</td>\n",
       "      <td>77.100</td>\n",
       "      <td>-0.243</td>\n",
       "      <td>-0.286</td>\n",
       "      <td>-0.043</td>\n",
       "    </tr>\n",
       "    <tr>\n",
       "      <th>15</th>\n",
       "      <td>17</td>\n",
       "      <td>76.843</td>\n",
       "      <td>-0.208</td>\n",
       "      <td>-0.257</td>\n",
       "      <td>-0.049</td>\n",
       "    </tr>\n",
       "    <tr>\n",
       "      <th>16</th>\n",
       "      <td>18</td>\n",
       "      <td>77.020</td>\n",
       "      <td>-0.067</td>\n",
       "      <td>0.177</td>\n",
       "      <td>0.244</td>\n",
       "    </tr>\n",
       "  </tbody>\n",
       "</table>\n",
       "</div>"
      ],
      "text/plain": [
       "    My Week  avg_weight  expected_weight_loss_deficit  weight_change  gap_kg\n",
       "12       14      77.171                        -0.214          0.071   0.285\n",
       "13       15      77.386                        -0.161          0.214   0.375\n",
       "14       16      77.100                        -0.243         -0.286  -0.043\n",
       "15       17      76.843                        -0.208         -0.257  -0.049\n",
       "16       18      77.020                        -0.067          0.177   0.244"
      ]
     },
     "execution_count": 402,
     "metadata": {},
     "output_type": "execute_result"
    }
   ],
   "source": [
    "sum_weekly[['My Week','avg_weight','expected_weight_loss_deficit','weight_change','gap_kg']].round(3).tail()"
   ]
  },
  {
   "cell_type": "code",
   "execution_count": 364,
   "id": "9ea6bfb2-92b7-419c-b069-9f75f55d78dc",
   "metadata": {},
   "outputs": [
    {
     "data": {
      "image/png": "[encoded data removed]",
      "text/plain": [
       "<Figure size 800x500 with 1 Axes>"
      ]
     },
     "metadata": {},
     "output_type": "display_data"
    }
   ],
   "source": [
    "import matplotlib.pyplot as plt\n",
    "\n",
    "# Plot expected vs actual weight change\n",
    "plt.figure(figsize=(8,5))\n",
    "\n",
    "plt.plot(sum_weekly[\"My Week\"], sum_weekly[\"expected_weight_loss\"], marker=\"o\", linestyle=\"--\", color=\"blue\", label=\"Expected Weight Loss (kg)\")\n",
    "plt.plot(sum_weekly[\"My Week\"], sum_weekly[\"weight_change\"], marker=\"o\", linestyle=\"-\", color=\"red\", label=\"Actual Weight Change (kg)\")\n",
    "\n",
    "plt.xlabel(\"Week\")\n",
    "plt.ylabel(\"Weight Change (kg)\")\n",
    "plt.title(\"Expected vs Actual Weekly Weight Change\")\n",
    "plt.legend()\n",
    "plt.grid(True)\n",
    "plt.show()\n"
   ]
  },
  {
   "cell_type": "markdown",
   "id": "4f665a35-d8cc-4ab8-874f-f520ad317c12",
   "metadata": {},
   "source": [
    "Weekly calorie deficit partially predicts weight loss. The correlation is moderate (r = 0.518, p = 0.033), indicating that **higher weekly deficits** tend to produce more weight loss.\n",
    "\n",
    "Comparing expected vs actual weight change shows that, while most weeks follow the expected trend, there are deviations likely caused by \n",
    "- natural weight fluctuations,\n",
    "- water retention, or\n",
    "- other factors.\n",
    "\n",
    "Overall, maintaining a weekly calorie deficit is an effective strategy for weight loss, but short-term weekly variations may occur."
   ]
  },
  {
   "cell_type": "markdown",
   "id": "c0d2d147-9337-461f-a71d-ecf1ae3c5e4b",
   "metadata": {},
   "source": [
    "## 8.1   Does monthly calorie deficit actually predict weight loss (here we reduce the noice)?"
   ]
  },
  {
   "cell_type": "code",
   "execution_count": 411,
   "id": "2048de82-321e-4873-a8fc-e8a192f63a75",
   "metadata": {},
   "outputs": [
    {
     "data": {
      "text/plain": [
       "Index(['Date', 'Monthly', 'My Week', 'Planned the day', 'Workout',\n",
       "       'Diet followed', 'JOURNAL', 'Sleep in H', 'Sleep in Desc',\n",
       "       'Deep work (h) in T', 'Deep work (h) in Des', 'Steps',\n",
       "       'Daily weight (kg)', 'CD Goal Weekly', 'CD Reality Check',\n",
       "       'Calory Deficit ', 'Screen Time (h)', 'Screen Time in Dec', 'SE',\n",
       "       'PORTUGUESE', 'READ PAGES', 'STATE OF DAY', 'Days of week', 'Body fat%',\n",
       "       'Real Fat Mass', 'Real Lean Body Mass (LBM)', 'Waist', 'Neck', 'Biceps',\n",
       "       'Forearms', 'Chest', 'Calves', 'Hips', 'Thighs', 'Sleep Category',\n",
       "       'Screen Time Category', 'Both_or_Neither'],\n",
       "      dtype='object')"
      ]
     },
     "execution_count": 411,
     "metadata": {},
     "output_type": "execute_result"
    }
   ],
   "source": [
    "df.columns"
   ]
  },
  {
   "cell_type": "code",
   "execution_count": null,
   "id": "fce4271c-6206-4f2e-9204-fac6ec75fba8",
   "metadata": {},
   "outputs": [],
   "source": [
    "df[['Monthly','Calory Deficit ', 'Daily weight (kg)']]"
   ]
  },
  {
   "cell_type": "code",
   "execution_count": 435,
   "id": "20322658-c9ea-4446-b066-9e7d6416b199",
   "metadata": {},
   "outputs": [
    {
     "data": {
      "text/html": [
       "<div>\n",
       "<style scoped>\n",
       "    .dataframe tbody tr th:only-of-type {\n",
       "        vertical-align: middle;\n",
       "    }\n",
       "\n",
       "    .dataframe tbody tr th {\n",
       "        vertical-align: top;\n",
       "    }\n",
       "\n",
       "    .dataframe thead th {\n",
       "        text-align: right;\n",
       "    }\n",
       "</style>\n",
       "<table border=\"1\" class=\"dataframe\">\n",
       "  <thead>\n",
       "    <tr style=\"text-align: right;\">\n",
       "      <th></th>\n",
       "      <th>Monthly</th>\n",
       "      <th>monthly_deficit</th>\n",
       "      <th>avg_weight</th>\n",
       "    </tr>\n",
       "  </thead>\n",
       "  <tbody>\n",
       "    <tr>\n",
       "      <th>0</th>\n",
       "      <td>August</td>\n",
       "      <td>-9525.0</td>\n",
       "      <td>78.067742</td>\n",
       "    </tr>\n",
       "    <tr>\n",
       "      <th>1</th>\n",
       "      <td>July</td>\n",
       "      <td>-3707.0</td>\n",
       "      <td>79.541935</td>\n",
       "    </tr>\n",
       "    <tr>\n",
       "      <th>2</th>\n",
       "      <td>June</td>\n",
       "      <td>-3787.0</td>\n",
       "      <td>79.836667</td>\n",
       "    </tr>\n",
       "    <tr>\n",
       "      <th>3</th>\n",
       "      <td>September</td>\n",
       "      <td>-5226.0</td>\n",
       "      <td>77.092308</td>\n",
       "    </tr>\n",
       "  </tbody>\n",
       "</table>\n",
       "</div>"
      ],
      "text/plain": [
       "     Monthly  monthly_deficit  avg_weight\n",
       "0     August          -9525.0   78.067742\n",
       "1       July          -3707.0   79.541935\n",
       "2       June          -3787.0   79.836667\n",
       "3  September          -5226.0   77.092308"
      ]
     },
     "execution_count": 435,
     "metadata": {},
     "output_type": "execute_result"
    }
   ],
   "source": [
    "# 1. Calculate weekly weight change\n",
    "\n",
    "sum_monthly = df.groupby('Monthly').agg( monthly_deficit=(\"Calory Deficit \", \"sum\"), avg_weight=('Daily weight (kg)', \"mean\")).reset_index()\n",
    "sum_monthly"
   ]
  },
  {
   "cell_type": "code",
   "execution_count": 437,
   "id": "ac7093f2-aa28-4802-ae3e-910adbf8ad9c",
   "metadata": {},
   "outputs": [],
   "source": [
    "month_order = [\"January\", \"February\", \"March\", \"April\", \"May\", \"June\",\n",
    "               \"July\", \"August\", \"September\", \"October\", \"November\", \"December\"]\n",
    "\n",
    "sum_monthly[\"Monthly\"] = pd.Categorical(sum_monthly[\"Monthly\"], categories=month_order, ordered=True)\n",
    "\n",
    "sum_monthly_sorted = sum_monthly.sort_values(\"Monthly\").reset_index(drop=True)"
   ]
  },
  {
   "cell_type": "code",
   "execution_count": 439,
   "id": "4a0cc644-f95e-4406-93d2-70c9cce6a128",
   "metadata": {},
   "outputs": [
    {
     "data": {
      "text/html": [
       "<div>\n",
       "<style scoped>\n",
       "    .dataframe tbody tr th:only-of-type {\n",
       "        vertical-align: middle;\n",
       "    }\n",
       "\n",
       "    .dataframe tbody tr th {\n",
       "        vertical-align: top;\n",
       "    }\n",
       "\n",
       "    .dataframe thead th {\n",
       "        text-align: right;\n",
       "    }\n",
       "</style>\n",
       "<table border=\"1\" class=\"dataframe\">\n",
       "  <thead>\n",
       "    <tr style=\"text-align: right;\">\n",
       "      <th></th>\n",
       "      <th>Monthly</th>\n",
       "      <th>monthly_deficit</th>\n",
       "      <th>avg_weight</th>\n",
       "    </tr>\n",
       "  </thead>\n",
       "  <tbody>\n",
       "    <tr>\n",
       "      <th>0</th>\n",
       "      <td>June</td>\n",
       "      <td>-3787.0</td>\n",
       "      <td>79.836667</td>\n",
       "    </tr>\n",
       "    <tr>\n",
       "      <th>1</th>\n",
       "      <td>July</td>\n",
       "      <td>-3707.0</td>\n",
       "      <td>79.541935</td>\n",
       "    </tr>\n",
       "    <tr>\n",
       "      <th>2</th>\n",
       "      <td>August</td>\n",
       "      <td>-9525.0</td>\n",
       "      <td>78.067742</td>\n",
       "    </tr>\n",
       "    <tr>\n",
       "      <th>3</th>\n",
       "      <td>September</td>\n",
       "      <td>-5226.0</td>\n",
       "      <td>77.092308</td>\n",
       "    </tr>\n",
       "  </tbody>\n",
       "</table>\n",
       "</div>"
      ],
      "text/plain": [
       "     Monthly  monthly_deficit  avg_weight\n",
       "0       June          -3787.0   79.836667\n",
       "1       July          -3707.0   79.541935\n",
       "2     August          -9525.0   78.067742\n",
       "3  September          -5226.0   77.092308"
      ]
     },
     "execution_count": 439,
     "metadata": {},
     "output_type": "execute_result"
    }
   ],
   "source": [
    "sum_monthly_sorted"
   ]
  },
  {
   "cell_type": "code",
   "execution_count": 441,
   "id": "d0bb7736-c505-4851-8671-b2fbc6560b08",
   "metadata": {},
   "outputs": [],
   "source": [
    "#1 Calculate monthly weight change\n",
    "\n",
    "sum_monthly_sorted[\"weight_change\"] = sum_monthly_sorted[\"avg_weight\"].diff()\n",
    "\n",
    "#2 Convert deficit → kg-equivalent\n",
    "\n",
    "sum_monthly_sorted[\"deficit_kg_equiv\"] = sum_monthly_sorted[\"monthly_deficit\"] / 7700"
   ]
  },
  {
   "cell_type": "code",
   "execution_count": 465,
   "id": "4f2a8f0f-581c-47c8-b295-5e4e53925ae6",
   "metadata": {},
   "outputs": [],
   "source": [
    "sum_monthly_sorted[\"gap_kg\"] = sum_monthly_sorted[\"weight_change\"] - sum_monthly_sorted[\"deficit_kg_equiv\"]"
   ]
  },
  {
   "cell_type": "code",
   "execution_count": 467,
   "id": "42a67bc1-1663-4326-9a29-26aa9f8f38bd",
   "metadata": {},
   "outputs": [
    {
     "data": {
      "text/html": [
       "<div>\n",
       "<style scoped>\n",
       "    .dataframe tbody tr th:only-of-type {\n",
       "        vertical-align: middle;\n",
       "    }\n",
       "\n",
       "    .dataframe tbody tr th {\n",
       "        vertical-align: top;\n",
       "    }\n",
       "\n",
       "    .dataframe thead th {\n",
       "        text-align: right;\n",
       "    }\n",
       "</style>\n",
       "<table border=\"1\" class=\"dataframe\">\n",
       "  <thead>\n",
       "    <tr style=\"text-align: right;\">\n",
       "      <th></th>\n",
       "      <th>Monthly</th>\n",
       "      <th>monthly_deficit</th>\n",
       "      <th>avg_weight</th>\n",
       "      <th>weight_change</th>\n",
       "      <th>deficit_kg_equiv</th>\n",
       "      <th>gap_kg</th>\n",
       "    </tr>\n",
       "  </thead>\n",
       "  <tbody>\n",
       "    <tr>\n",
       "      <th>0</th>\n",
       "      <td>June</td>\n",
       "      <td>-3787.0</td>\n",
       "      <td>79.836667</td>\n",
       "      <td>NaN</td>\n",
       "      <td>-0.491818</td>\n",
       "      <td>NaN</td>\n",
       "    </tr>\n",
       "    <tr>\n",
       "      <th>1</th>\n",
       "      <td>July</td>\n",
       "      <td>-3707.0</td>\n",
       "      <td>79.541935</td>\n",
       "      <td>-0.294731</td>\n",
       "      <td>-0.481429</td>\n",
       "      <td>0.186697</td>\n",
       "    </tr>\n",
       "    <tr>\n",
       "      <th>2</th>\n",
       "      <td>August</td>\n",
       "      <td>-9525.0</td>\n",
       "      <td>78.067742</td>\n",
       "      <td>-1.474194</td>\n",
       "      <td>-1.237013</td>\n",
       "      <td>-0.237181</td>\n",
       "    </tr>\n",
       "    <tr>\n",
       "      <th>3</th>\n",
       "      <td>September</td>\n",
       "      <td>-5226.0</td>\n",
       "      <td>77.092308</td>\n",
       "      <td>-0.975434</td>\n",
       "      <td>-0.678701</td>\n",
       "      <td>-0.296733</td>\n",
       "    </tr>\n",
       "  </tbody>\n",
       "</table>\n",
       "</div>"
      ],
      "text/plain": [
       "     Monthly  monthly_deficit  avg_weight  weight_change  deficit_kg_equiv  \\\n",
       "0       June          -3787.0   79.836667            NaN         -0.491818   \n",
       "1       July          -3707.0   79.541935      -0.294731         -0.481429   \n",
       "2     August          -9525.0   78.067742      -1.474194         -1.237013   \n",
       "3  September          -5226.0   77.092308      -0.975434         -0.678701   \n",
       "\n",
       "     gap_kg  \n",
       "0       NaN  \n",
       "1  0.186697  \n",
       "2 -0.237181  \n",
       "3 -0.296733  "
      ]
     },
     "execution_count": 467,
     "metadata": {},
     "output_type": "execute_result"
    }
   ],
   "source": [
    "sum_monthly_sorted"
   ]
  },
  {
   "cell_type": "code",
   "execution_count": 469,
   "id": "e4238cb5-0df9-4ce1-898d-7dafbe39fa5f",
   "metadata": {},
   "outputs": [
    {
     "data": {
      "text/html": [
       "<div>\n",
       "<style scoped>\n",
       "    .dataframe tbody tr th:only-of-type {\n",
       "        vertical-align: middle;\n",
       "    }\n",
       "\n",
       "    .dataframe tbody tr th {\n",
       "        vertical-align: top;\n",
       "    }\n",
       "\n",
       "    .dataframe thead th {\n",
       "        text-align: right;\n",
       "    }\n",
       "</style>\n",
       "<table border=\"1\" class=\"dataframe\">\n",
       "  <thead>\n",
       "    <tr style=\"text-align: right;\">\n",
       "      <th></th>\n",
       "      <th>Monthly</th>\n",
       "      <th>monthly_deficit</th>\n",
       "      <th>deficit_kg_equiv</th>\n",
       "      <th>avg_weight</th>\n",
       "      <th>weight_change</th>\n",
       "      <th>gap_kg</th>\n",
       "    </tr>\n",
       "  </thead>\n",
       "  <tbody>\n",
       "    <tr>\n",
       "      <th>0</th>\n",
       "      <td>June</td>\n",
       "      <td>-3787.0</td>\n",
       "      <td>-0.492</td>\n",
       "      <td>79.837</td>\n",
       "      <td>NaN</td>\n",
       "      <td>NaN</td>\n",
       "    </tr>\n",
       "    <tr>\n",
       "      <th>1</th>\n",
       "      <td>July</td>\n",
       "      <td>-3707.0</td>\n",
       "      <td>-0.481</td>\n",
       "      <td>79.542</td>\n",
       "      <td>-0.295</td>\n",
       "      <td>0.187</td>\n",
       "    </tr>\n",
       "    <tr>\n",
       "      <th>2</th>\n",
       "      <td>August</td>\n",
       "      <td>-9525.0</td>\n",
       "      <td>-1.237</td>\n",
       "      <td>78.068</td>\n",
       "      <td>-1.474</td>\n",
       "      <td>-0.237</td>\n",
       "    </tr>\n",
       "    <tr>\n",
       "      <th>3</th>\n",
       "      <td>September</td>\n",
       "      <td>-5226.0</td>\n",
       "      <td>-0.679</td>\n",
       "      <td>77.092</td>\n",
       "      <td>-0.975</td>\n",
       "      <td>-0.297</td>\n",
       "    </tr>\n",
       "  </tbody>\n",
       "</table>\n",
       "</div>"
      ],
      "text/plain": [
       "     Monthly  monthly_deficit  deficit_kg_equiv  avg_weight  weight_change  \\\n",
       "0       June          -3787.0            -0.492      79.837            NaN   \n",
       "1       July          -3707.0            -0.481      79.542         -0.295   \n",
       "2     August          -9525.0            -1.237      78.068         -1.474   \n",
       "3  September          -5226.0            -0.679      77.092         -0.975   \n",
       "\n",
       "   gap_kg  \n",
       "0     NaN  \n",
       "1   0.187  \n",
       "2  -0.237  \n",
       "3  -0.297  "
      ]
     },
     "execution_count": 469,
     "metadata": {},
     "output_type": "execute_result"
    }
   ],
   "source": [
    "sum_monthly_sorted[['Monthly','monthly_deficit','deficit_kg_equiv','avg_weight','weight_change','gap_kg']].round(3)"
   ]
  }
 ],
 "metadata": {
  "kernelspec": {
   "display_name": "Python 3 (ipykernel)",
   "language": "python",
   "name": "python3"
  },
  "language_info": {
   "codemirror_mode": {
    "name": "ipython",
    "version": 3
   },
   "file_extension": ".py",
   "mimetype": "text/x-python",
   "name": "python",
   "nbconvert_exporter": "python",
   "pygments_lexer": "ipython3",
   "version": "3.12.4"
  }
 },
 "nbformat": 4,
 "nbformat_minor": 5
}
